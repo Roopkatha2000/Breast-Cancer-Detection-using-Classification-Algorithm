{
 "cells": [
  {
   "cell_type": "code",
   "execution_count": 288,
   "id": "e3e75ccd",
   "metadata": {},
   "outputs": [],
   "source": [
    "import pandas as pd\n",
    "import warnings\n",
    "warnings.filterwarnings('ignore')\n",
    "from sklearn.datasets import load_breast_cancer\n"
   ]
  },
  {
   "cell_type": "code",
   "execution_count": 242,
   "id": "bb0ef7e6",
   "metadata": {},
   "outputs": [
    {
     "data": {
      "text/html": [
       "<div>\n",
       "<style scoped>\n",
       "    .dataframe tbody tr th:only-of-type {\n",
       "        vertical-align: middle;\n",
       "    }\n",
       "\n",
       "    .dataframe tbody tr th {\n",
       "        vertical-align: top;\n",
       "    }\n",
       "\n",
       "    .dataframe thead th {\n",
       "        text-align: right;\n",
       "    }\n",
       "</style>\n",
       "<table border=\"1\" class=\"dataframe\">\n",
       "  <thead>\n",
       "    <tr style=\"text-align: right;\">\n",
       "      <th></th>\n",
       "      <th>mean radius</th>\n",
       "      <th>mean texture</th>\n",
       "      <th>mean perimeter</th>\n",
       "      <th>mean area</th>\n",
       "      <th>mean smoothness</th>\n",
       "      <th>mean compactness</th>\n",
       "      <th>mean concavity</th>\n",
       "      <th>mean concave points</th>\n",
       "      <th>mean symmetry</th>\n",
       "      <th>mean fractal dimension</th>\n",
       "      <th>...</th>\n",
       "      <th>worst radius</th>\n",
       "      <th>worst texture</th>\n",
       "      <th>worst perimeter</th>\n",
       "      <th>worst area</th>\n",
       "      <th>worst smoothness</th>\n",
       "      <th>worst compactness</th>\n",
       "      <th>worst concavity</th>\n",
       "      <th>worst concave points</th>\n",
       "      <th>worst symmetry</th>\n",
       "      <th>worst fractal dimension</th>\n",
       "    </tr>\n",
       "  </thead>\n",
       "  <tbody>\n",
       "    <tr>\n",
       "      <th>0</th>\n",
       "      <td>17.99</td>\n",
       "      <td>10.38</td>\n",
       "      <td>122.80</td>\n",
       "      <td>1001.0</td>\n",
       "      <td>0.11840</td>\n",
       "      <td>0.27760</td>\n",
       "      <td>0.3001</td>\n",
       "      <td>0.14710</td>\n",
       "      <td>0.2419</td>\n",
       "      <td>0.07871</td>\n",
       "      <td>...</td>\n",
       "      <td>25.38</td>\n",
       "      <td>17.33</td>\n",
       "      <td>184.60</td>\n",
       "      <td>2019.0</td>\n",
       "      <td>0.1622</td>\n",
       "      <td>0.6656</td>\n",
       "      <td>0.7119</td>\n",
       "      <td>0.2654</td>\n",
       "      <td>0.4601</td>\n",
       "      <td>0.11890</td>\n",
       "    </tr>\n",
       "    <tr>\n",
       "      <th>1</th>\n",
       "      <td>20.57</td>\n",
       "      <td>17.77</td>\n",
       "      <td>132.90</td>\n",
       "      <td>1326.0</td>\n",
       "      <td>0.08474</td>\n",
       "      <td>0.07864</td>\n",
       "      <td>0.0869</td>\n",
       "      <td>0.07017</td>\n",
       "      <td>0.1812</td>\n",
       "      <td>0.05667</td>\n",
       "      <td>...</td>\n",
       "      <td>24.99</td>\n",
       "      <td>23.41</td>\n",
       "      <td>158.80</td>\n",
       "      <td>1956.0</td>\n",
       "      <td>0.1238</td>\n",
       "      <td>0.1866</td>\n",
       "      <td>0.2416</td>\n",
       "      <td>0.1860</td>\n",
       "      <td>0.2750</td>\n",
       "      <td>0.08902</td>\n",
       "    </tr>\n",
       "    <tr>\n",
       "      <th>2</th>\n",
       "      <td>19.69</td>\n",
       "      <td>21.25</td>\n",
       "      <td>130.00</td>\n",
       "      <td>1203.0</td>\n",
       "      <td>0.10960</td>\n",
       "      <td>0.15990</td>\n",
       "      <td>0.1974</td>\n",
       "      <td>0.12790</td>\n",
       "      <td>0.2069</td>\n",
       "      <td>0.05999</td>\n",
       "      <td>...</td>\n",
       "      <td>23.57</td>\n",
       "      <td>25.53</td>\n",
       "      <td>152.50</td>\n",
       "      <td>1709.0</td>\n",
       "      <td>0.1444</td>\n",
       "      <td>0.4245</td>\n",
       "      <td>0.4504</td>\n",
       "      <td>0.2430</td>\n",
       "      <td>0.3613</td>\n",
       "      <td>0.08758</td>\n",
       "    </tr>\n",
       "    <tr>\n",
       "      <th>3</th>\n",
       "      <td>11.42</td>\n",
       "      <td>20.38</td>\n",
       "      <td>77.58</td>\n",
       "      <td>386.1</td>\n",
       "      <td>0.14250</td>\n",
       "      <td>0.28390</td>\n",
       "      <td>0.2414</td>\n",
       "      <td>0.10520</td>\n",
       "      <td>0.2597</td>\n",
       "      <td>0.09744</td>\n",
       "      <td>...</td>\n",
       "      <td>14.91</td>\n",
       "      <td>26.50</td>\n",
       "      <td>98.87</td>\n",
       "      <td>567.7</td>\n",
       "      <td>0.2098</td>\n",
       "      <td>0.8663</td>\n",
       "      <td>0.6869</td>\n",
       "      <td>0.2575</td>\n",
       "      <td>0.6638</td>\n",
       "      <td>0.17300</td>\n",
       "    </tr>\n",
       "    <tr>\n",
       "      <th>4</th>\n",
       "      <td>20.29</td>\n",
       "      <td>14.34</td>\n",
       "      <td>135.10</td>\n",
       "      <td>1297.0</td>\n",
       "      <td>0.10030</td>\n",
       "      <td>0.13280</td>\n",
       "      <td>0.1980</td>\n",
       "      <td>0.10430</td>\n",
       "      <td>0.1809</td>\n",
       "      <td>0.05883</td>\n",
       "      <td>...</td>\n",
       "      <td>22.54</td>\n",
       "      <td>16.67</td>\n",
       "      <td>152.20</td>\n",
       "      <td>1575.0</td>\n",
       "      <td>0.1374</td>\n",
       "      <td>0.2050</td>\n",
       "      <td>0.4000</td>\n",
       "      <td>0.1625</td>\n",
       "      <td>0.2364</td>\n",
       "      <td>0.07678</td>\n",
       "    </tr>\n",
       "  </tbody>\n",
       "</table>\n",
       "<p>5 rows × 30 columns</p>\n",
       "</div>"
      ],
      "text/plain": [
       "   mean radius  mean texture  mean perimeter  mean area  mean smoothness  \\\n",
       "0        17.99         10.38          122.80     1001.0          0.11840   \n",
       "1        20.57         17.77          132.90     1326.0          0.08474   \n",
       "2        19.69         21.25          130.00     1203.0          0.10960   \n",
       "3        11.42         20.38           77.58      386.1          0.14250   \n",
       "4        20.29         14.34          135.10     1297.0          0.10030   \n",
       "\n",
       "   mean compactness  mean concavity  mean concave points  mean symmetry  \\\n",
       "0           0.27760          0.3001              0.14710         0.2419   \n",
       "1           0.07864          0.0869              0.07017         0.1812   \n",
       "2           0.15990          0.1974              0.12790         0.2069   \n",
       "3           0.28390          0.2414              0.10520         0.2597   \n",
       "4           0.13280          0.1980              0.10430         0.1809   \n",
       "\n",
       "   mean fractal dimension  ...  worst radius  worst texture  worst perimeter  \\\n",
       "0                 0.07871  ...         25.38          17.33           184.60   \n",
       "1                 0.05667  ...         24.99          23.41           158.80   \n",
       "2                 0.05999  ...         23.57          25.53           152.50   \n",
       "3                 0.09744  ...         14.91          26.50            98.87   \n",
       "4                 0.05883  ...         22.54          16.67           152.20   \n",
       "\n",
       "   worst area  worst smoothness  worst compactness  worst concavity  \\\n",
       "0      2019.0            0.1622             0.6656           0.7119   \n",
       "1      1956.0            0.1238             0.1866           0.2416   \n",
       "2      1709.0            0.1444             0.4245           0.4504   \n",
       "3       567.7            0.2098             0.8663           0.6869   \n",
       "4      1575.0            0.1374             0.2050           0.4000   \n",
       "\n",
       "   worst concave points  worst symmetry  worst fractal dimension  \n",
       "0                0.2654          0.4601                  0.11890  \n",
       "1                0.1860          0.2750                  0.08902  \n",
       "2                0.2430          0.3613                  0.08758  \n",
       "3                0.2575          0.6638                  0.17300  \n",
       "4                0.1625          0.2364                  0.07678  \n",
       "\n",
       "[5 rows x 30 columns]"
      ]
     },
     "execution_count": 242,
     "metadata": {},
     "output_type": "execute_result"
    }
   ],
   "source": [
    "'''\n",
    "'load_breast_cancer()' contains a total of 30 features (input variables or attributes)\n",
    "which are characteristics of the tumors - such as mean radius, mean texture etcetera.\n",
    "we are loading all the features in a pandas DataFrame named df.\n",
    "'''\n",
    "\n",
    "df = pd.DataFrame(data=load_breast_cancer()['data'], columns = load_breast_cancer()['feature_names'])\n",
    "df.head()"
   ]
  },
  {
   "cell_type": "code",
   "execution_count": 243,
   "id": "469db28d",
   "metadata": {},
   "outputs": [
    {
     "data": {
      "text/plain": [
       "(569, 30)"
      ]
     },
     "execution_count": 243,
     "metadata": {},
     "output_type": "execute_result"
    }
   ],
   "source": [
    "df.shape"
   ]
  },
  {
   "cell_type": "code",
   "execution_count": 244,
   "id": "4263f452",
   "metadata": {},
   "outputs": [],
   "source": [
    "# this df will be the features set for our analysis to classify wether a new tumor would be Benign or Malignant.\n",
    "\n",
    "X = df.copy()\n",
    "Y = load_breast_cancer()['target'] # the target variable in the dataset."
   ]
  },
  {
   "cell_type": "code",
   "execution_count": 245,
   "id": "70468676",
   "metadata": {},
   "outputs": [
    {
     "data": {
      "text/html": [
       "<div>\n",
       "<style scoped>\n",
       "    .dataframe tbody tr th:only-of-type {\n",
       "        vertical-align: middle;\n",
       "    }\n",
       "\n",
       "    .dataframe tbody tr th {\n",
       "        vertical-align: top;\n",
       "    }\n",
       "\n",
       "    .dataframe thead th {\n",
       "        text-align: right;\n",
       "    }\n",
       "</style>\n",
       "<table border=\"1\" class=\"dataframe\">\n",
       "  <thead>\n",
       "    <tr style=\"text-align: right;\">\n",
       "      <th></th>\n",
       "      <th>mean radius</th>\n",
       "      <th>mean texture</th>\n",
       "      <th>mean perimeter</th>\n",
       "      <th>mean area</th>\n",
       "      <th>mean smoothness</th>\n",
       "      <th>mean compactness</th>\n",
       "      <th>mean concavity</th>\n",
       "      <th>mean concave points</th>\n",
       "      <th>mean symmetry</th>\n",
       "      <th>mean fractal dimension</th>\n",
       "      <th>...</th>\n",
       "      <th>worst radius</th>\n",
       "      <th>worst texture</th>\n",
       "      <th>worst perimeter</th>\n",
       "      <th>worst area</th>\n",
       "      <th>worst smoothness</th>\n",
       "      <th>worst compactness</th>\n",
       "      <th>worst concavity</th>\n",
       "      <th>worst concave points</th>\n",
       "      <th>worst symmetry</th>\n",
       "      <th>worst fractal dimension</th>\n",
       "    </tr>\n",
       "  </thead>\n",
       "  <tbody>\n",
       "    <tr>\n",
       "      <th>0</th>\n",
       "      <td>17.99</td>\n",
       "      <td>10.38</td>\n",
       "      <td>122.80</td>\n",
       "      <td>1001.0</td>\n",
       "      <td>0.11840</td>\n",
       "      <td>0.27760</td>\n",
       "      <td>0.3001</td>\n",
       "      <td>0.14710</td>\n",
       "      <td>0.2419</td>\n",
       "      <td>0.07871</td>\n",
       "      <td>...</td>\n",
       "      <td>25.38</td>\n",
       "      <td>17.33</td>\n",
       "      <td>184.60</td>\n",
       "      <td>2019.0</td>\n",
       "      <td>0.1622</td>\n",
       "      <td>0.6656</td>\n",
       "      <td>0.7119</td>\n",
       "      <td>0.2654</td>\n",
       "      <td>0.4601</td>\n",
       "      <td>0.11890</td>\n",
       "    </tr>\n",
       "    <tr>\n",
       "      <th>1</th>\n",
       "      <td>20.57</td>\n",
       "      <td>17.77</td>\n",
       "      <td>132.90</td>\n",
       "      <td>1326.0</td>\n",
       "      <td>0.08474</td>\n",
       "      <td>0.07864</td>\n",
       "      <td>0.0869</td>\n",
       "      <td>0.07017</td>\n",
       "      <td>0.1812</td>\n",
       "      <td>0.05667</td>\n",
       "      <td>...</td>\n",
       "      <td>24.99</td>\n",
       "      <td>23.41</td>\n",
       "      <td>158.80</td>\n",
       "      <td>1956.0</td>\n",
       "      <td>0.1238</td>\n",
       "      <td>0.1866</td>\n",
       "      <td>0.2416</td>\n",
       "      <td>0.1860</td>\n",
       "      <td>0.2750</td>\n",
       "      <td>0.08902</td>\n",
       "    </tr>\n",
       "    <tr>\n",
       "      <th>2</th>\n",
       "      <td>19.69</td>\n",
       "      <td>21.25</td>\n",
       "      <td>130.00</td>\n",
       "      <td>1203.0</td>\n",
       "      <td>0.10960</td>\n",
       "      <td>0.15990</td>\n",
       "      <td>0.1974</td>\n",
       "      <td>0.12790</td>\n",
       "      <td>0.2069</td>\n",
       "      <td>0.05999</td>\n",
       "      <td>...</td>\n",
       "      <td>23.57</td>\n",
       "      <td>25.53</td>\n",
       "      <td>152.50</td>\n",
       "      <td>1709.0</td>\n",
       "      <td>0.1444</td>\n",
       "      <td>0.4245</td>\n",
       "      <td>0.4504</td>\n",
       "      <td>0.2430</td>\n",
       "      <td>0.3613</td>\n",
       "      <td>0.08758</td>\n",
       "    </tr>\n",
       "    <tr>\n",
       "      <th>3</th>\n",
       "      <td>11.42</td>\n",
       "      <td>20.38</td>\n",
       "      <td>77.58</td>\n",
       "      <td>386.1</td>\n",
       "      <td>0.14250</td>\n",
       "      <td>0.28390</td>\n",
       "      <td>0.2414</td>\n",
       "      <td>0.10520</td>\n",
       "      <td>0.2597</td>\n",
       "      <td>0.09744</td>\n",
       "      <td>...</td>\n",
       "      <td>14.91</td>\n",
       "      <td>26.50</td>\n",
       "      <td>98.87</td>\n",
       "      <td>567.7</td>\n",
       "      <td>0.2098</td>\n",
       "      <td>0.8663</td>\n",
       "      <td>0.6869</td>\n",
       "      <td>0.2575</td>\n",
       "      <td>0.6638</td>\n",
       "      <td>0.17300</td>\n",
       "    </tr>\n",
       "    <tr>\n",
       "      <th>4</th>\n",
       "      <td>20.29</td>\n",
       "      <td>14.34</td>\n",
       "      <td>135.10</td>\n",
       "      <td>1297.0</td>\n",
       "      <td>0.10030</td>\n",
       "      <td>0.13280</td>\n",
       "      <td>0.1980</td>\n",
       "      <td>0.10430</td>\n",
       "      <td>0.1809</td>\n",
       "      <td>0.05883</td>\n",
       "      <td>...</td>\n",
       "      <td>22.54</td>\n",
       "      <td>16.67</td>\n",
       "      <td>152.20</td>\n",
       "      <td>1575.0</td>\n",
       "      <td>0.1374</td>\n",
       "      <td>0.2050</td>\n",
       "      <td>0.4000</td>\n",
       "      <td>0.1625</td>\n",
       "      <td>0.2364</td>\n",
       "      <td>0.07678</td>\n",
       "    </tr>\n",
       "  </tbody>\n",
       "</table>\n",
       "<p>5 rows × 30 columns</p>\n",
       "</div>"
      ],
      "text/plain": [
       "   mean radius  mean texture  mean perimeter  mean area  mean smoothness  \\\n",
       "0        17.99         10.38          122.80     1001.0          0.11840   \n",
       "1        20.57         17.77          132.90     1326.0          0.08474   \n",
       "2        19.69         21.25          130.00     1203.0          0.10960   \n",
       "3        11.42         20.38           77.58      386.1          0.14250   \n",
       "4        20.29         14.34          135.10     1297.0          0.10030   \n",
       "\n",
       "   mean compactness  mean concavity  mean concave points  mean symmetry  \\\n",
       "0           0.27760          0.3001              0.14710         0.2419   \n",
       "1           0.07864          0.0869              0.07017         0.1812   \n",
       "2           0.15990          0.1974              0.12790         0.2069   \n",
       "3           0.28390          0.2414              0.10520         0.2597   \n",
       "4           0.13280          0.1980              0.10430         0.1809   \n",
       "\n",
       "   mean fractal dimension  ...  worst radius  worst texture  worst perimeter  \\\n",
       "0                 0.07871  ...         25.38          17.33           184.60   \n",
       "1                 0.05667  ...         24.99          23.41           158.80   \n",
       "2                 0.05999  ...         23.57          25.53           152.50   \n",
       "3                 0.09744  ...         14.91          26.50            98.87   \n",
       "4                 0.05883  ...         22.54          16.67           152.20   \n",
       "\n",
       "   worst area  worst smoothness  worst compactness  worst concavity  \\\n",
       "0      2019.0            0.1622             0.6656           0.7119   \n",
       "1      1956.0            0.1238             0.1866           0.2416   \n",
       "2      1709.0            0.1444             0.4245           0.4504   \n",
       "3       567.7            0.2098             0.8663           0.6869   \n",
       "4      1575.0            0.1374             0.2050           0.4000   \n",
       "\n",
       "   worst concave points  worst symmetry  worst fractal dimension  \n",
       "0                0.2654          0.4601                  0.11890  \n",
       "1                0.1860          0.2750                  0.08902  \n",
       "2                0.2430          0.3613                  0.08758  \n",
       "3                0.2575          0.6638                  0.17300  \n",
       "4                0.1625          0.2364                  0.07678  \n",
       "\n",
       "[5 rows x 30 columns]"
      ]
     },
     "execution_count": 245,
     "metadata": {},
     "output_type": "execute_result"
    }
   ],
   "source": [
    "X.head()"
   ]
  },
  {
   "cell_type": "code",
   "execution_count": 246,
   "id": "ce7c58af",
   "metadata": {},
   "outputs": [],
   "source": [
    "Y = pd.DataFrame(Y)"
   ]
  },
  {
   "cell_type": "code",
   "execution_count": 247,
   "id": "16fabbbf",
   "metadata": {},
   "outputs": [
    {
     "data": {
      "text/plain": [
       "1    62.741652\n",
       "0    37.258348\n",
       "dtype: float64"
      ]
     },
     "execution_count": 247,
     "metadata": {},
     "output_type": "execute_result"
    }
   ],
   "source": [
    "Y.value_counts(normalize = True )*100"
   ]
  },
  {
   "cell_type": "code",
   "execution_count": 248,
   "id": "5b605f14",
   "metadata": {},
   "outputs": [
    {
     "data": {
      "text/plain": [
       "mean radius                 2.460457\n",
       "mean texture                1.230228\n",
       "mean perimeter              2.284710\n",
       "mean area                   4.393673\n",
       "mean smoothness             1.054482\n",
       "mean compactness            2.811951\n",
       "mean concavity              3.163445\n",
       "mean concave points         1.757469\n",
       "mean symmetry               2.636204\n",
       "mean fractal dimension      2.636204\n",
       "radius error                6.678383\n",
       "texture error               3.514938\n",
       "perimeter error             6.678383\n",
       "area error                 11.423550\n",
       "smoothness error            5.272408\n",
       "compactness error           4.920914\n",
       "concavity error             3.866432\n",
       "concave points error        3.339192\n",
       "symmetry error              4.745167\n",
       "fractal dimension error     4.920914\n",
       "worst radius                2.987698\n",
       "worst texture               0.878735\n",
       "worst perimeter             2.636204\n",
       "worst area                  6.151142\n",
       "worst smoothness            1.230228\n",
       "worst compactness           2.811951\n",
       "worst concavity             2.108963\n",
       "worst concave points        0.000000\n",
       "worst symmetry              4.042179\n",
       "worst fractal dimension     4.217926\n",
       "dtype: float64"
      ]
     },
     "execution_count": 248,
     "metadata": {},
     "output_type": "execute_result"
    }
   ],
   "source": [
    "# Define a function to remove outliers for a specific column\n",
    "def outliers(column):\n",
    "    Q1 = column.quantile(0.25)\n",
    "    Q3 = column.quantile(0.75)\n",
    "    IQR = Q3 - Q1\n",
    "    lower_bound = Q1 - 1.5 * IQR\n",
    "    upper_bound = Q3 + 1.5 * IQR\n",
    "    return column[(column < lower_bound) | (column > upper_bound)]\n",
    "\n",
    "# Calculate the percentage of outliers for each column\n",
    "outlier_percentage = X.apply(outliers).count() / len(df) * 100\n",
    "\n",
    "outlier_percentage"
   ]
  },
  {
   "cell_type": "code",
   "execution_count": 249,
   "id": "710be961",
   "metadata": {},
   "outputs": [
    {
     "data": {
      "text/html": [
       "<div>\n",
       "<style scoped>\n",
       "    .dataframe tbody tr th:only-of-type {\n",
       "        vertical-align: middle;\n",
       "    }\n",
       "\n",
       "    .dataframe tbody tr th {\n",
       "        vertical-align: top;\n",
       "    }\n",
       "\n",
       "    .dataframe thead th {\n",
       "        text-align: right;\n",
       "    }\n",
       "</style>\n",
       "<table border=\"1\" class=\"dataframe\">\n",
       "  <thead>\n",
       "    <tr style=\"text-align: right;\">\n",
       "      <th></th>\n",
       "      <th>mean radius</th>\n",
       "      <th>mean texture</th>\n",
       "      <th>mean perimeter</th>\n",
       "      <th>mean area</th>\n",
       "      <th>mean smoothness</th>\n",
       "      <th>mean compactness</th>\n",
       "      <th>mean concavity</th>\n",
       "      <th>mean concave points</th>\n",
       "      <th>mean symmetry</th>\n",
       "      <th>mean fractal dimension</th>\n",
       "      <th>...</th>\n",
       "      <th>worst radius</th>\n",
       "      <th>worst texture</th>\n",
       "      <th>worst perimeter</th>\n",
       "      <th>worst area</th>\n",
       "      <th>worst smoothness</th>\n",
       "      <th>worst compactness</th>\n",
       "      <th>worst concavity</th>\n",
       "      <th>worst concave points</th>\n",
       "      <th>worst symmetry</th>\n",
       "      <th>worst fractal dimension</th>\n",
       "    </tr>\n",
       "  </thead>\n",
       "  <tbody>\n",
       "    <tr>\n",
       "      <th>0</th>\n",
       "      <td>2.943913</td>\n",
       "      <td>2.431857</td>\n",
       "      <td>4.818667</td>\n",
       "      <td>6.909753</td>\n",
       "      <td>0.111899</td>\n",
       "      <td>0.244983</td>\n",
       "      <td>0.262441</td>\n",
       "      <td>0.137237</td>\n",
       "      <td>0.216642</td>\n",
       "      <td>0.075766</td>\n",
       "      <td>...</td>\n",
       "      <td>3.272606</td>\n",
       "      <td>2.908539</td>\n",
       "      <td>5.223594</td>\n",
       "      <td>7.610853</td>\n",
       "      <td>0.150315</td>\n",
       "      <td>0.510185</td>\n",
       "      <td>0.537604</td>\n",
       "      <td>0.235388</td>\n",
       "      <td>0.378505</td>\n",
       "      <td>0.112346</td>\n",
       "    </tr>\n",
       "    <tr>\n",
       "      <th>1</th>\n",
       "      <td>3.071303</td>\n",
       "      <td>2.932260</td>\n",
       "      <td>4.897093</td>\n",
       "      <td>7.190676</td>\n",
       "      <td>0.081340</td>\n",
       "      <td>0.075701</td>\n",
       "      <td>0.083330</td>\n",
       "      <td>0.067818</td>\n",
       "      <td>0.166531</td>\n",
       "      <td>0.055122</td>\n",
       "      <td>...</td>\n",
       "      <td>3.257712</td>\n",
       "      <td>3.194993</td>\n",
       "      <td>5.073923</td>\n",
       "      <td>7.579168</td>\n",
       "      <td>0.116716</td>\n",
       "      <td>0.171092</td>\n",
       "      <td>0.216401</td>\n",
       "      <td>0.170586</td>\n",
       "      <td>0.242946</td>\n",
       "      <td>0.085278</td>\n",
       "    </tr>\n",
       "    <tr>\n",
       "      <th>2</th>\n",
       "      <td>3.029650</td>\n",
       "      <td>3.102342</td>\n",
       "      <td>4.875197</td>\n",
       "      <td>7.093405</td>\n",
       "      <td>0.104000</td>\n",
       "      <td>0.148334</td>\n",
       "      <td>0.180153</td>\n",
       "      <td>0.120357</td>\n",
       "      <td>0.188055</td>\n",
       "      <td>0.058259</td>\n",
       "      <td>...</td>\n",
       "      <td>3.201526</td>\n",
       "      <td>3.278276</td>\n",
       "      <td>5.033701</td>\n",
       "      <td>7.444249</td>\n",
       "      <td>0.134880</td>\n",
       "      <td>0.353821</td>\n",
       "      <td>0.371839</td>\n",
       "      <td>0.217528</td>\n",
       "      <td>0.308440</td>\n",
       "      <td>0.083955</td>\n",
       "    </tr>\n",
       "    <tr>\n",
       "      <th>3</th>\n",
       "      <td>2.519308</td>\n",
       "      <td>3.062456</td>\n",
       "      <td>4.364117</td>\n",
       "      <td>5.958683</td>\n",
       "      <td>0.133219</td>\n",
       "      <td>0.249902</td>\n",
       "      <td>0.216240</td>\n",
       "      <td>0.100026</td>\n",
       "      <td>0.230874</td>\n",
       "      <td>0.092980</td>\n",
       "      <td>...</td>\n",
       "      <td>2.766948</td>\n",
       "      <td>3.314186</td>\n",
       "      <td>4.603869</td>\n",
       "      <td>6.343353</td>\n",
       "      <td>0.190455</td>\n",
       "      <td>0.623958</td>\n",
       "      <td>0.522893</td>\n",
       "      <td>0.229126</td>\n",
       "      <td>0.509104</td>\n",
       "      <td>0.159565</td>\n",
       "    </tr>\n",
       "    <tr>\n",
       "      <th>4</th>\n",
       "      <td>3.058237</td>\n",
       "      <td>2.730464</td>\n",
       "      <td>4.913390</td>\n",
       "      <td>7.168580</td>\n",
       "      <td>0.095583</td>\n",
       "      <td>0.124692</td>\n",
       "      <td>0.180653</td>\n",
       "      <td>0.099212</td>\n",
       "      <td>0.166277</td>\n",
       "      <td>0.057165</td>\n",
       "      <td>...</td>\n",
       "      <td>3.158701</td>\n",
       "      <td>2.871868</td>\n",
       "      <td>5.031744</td>\n",
       "      <td>7.362645</td>\n",
       "      <td>0.128745</td>\n",
       "      <td>0.186480</td>\n",
       "      <td>0.336472</td>\n",
       "      <td>0.150573</td>\n",
       "      <td>0.212204</td>\n",
       "      <td>0.073975</td>\n",
       "    </tr>\n",
       "  </tbody>\n",
       "</table>\n",
       "<p>5 rows × 30 columns</p>\n",
       "</div>"
      ],
      "text/plain": [
       "   mean radius  mean texture  mean perimeter  mean area  mean smoothness  \\\n",
       "0     2.943913      2.431857        4.818667   6.909753         0.111899   \n",
       "1     3.071303      2.932260        4.897093   7.190676         0.081340   \n",
       "2     3.029650      3.102342        4.875197   7.093405         0.104000   \n",
       "3     2.519308      3.062456        4.364117   5.958683         0.133219   \n",
       "4     3.058237      2.730464        4.913390   7.168580         0.095583   \n",
       "\n",
       "   mean compactness  mean concavity  mean concave points  mean symmetry  \\\n",
       "0          0.244983        0.262441             0.137237       0.216642   \n",
       "1          0.075701        0.083330             0.067818       0.166531   \n",
       "2          0.148334        0.180153             0.120357       0.188055   \n",
       "3          0.249902        0.216240             0.100026       0.230874   \n",
       "4          0.124692        0.180653             0.099212       0.166277   \n",
       "\n",
       "   mean fractal dimension  ...  worst radius  worst texture  worst perimeter  \\\n",
       "0                0.075766  ...      3.272606       2.908539         5.223594   \n",
       "1                0.055122  ...      3.257712       3.194993         5.073923   \n",
       "2                0.058259  ...      3.201526       3.278276         5.033701   \n",
       "3                0.092980  ...      2.766948       3.314186         4.603869   \n",
       "4                0.057165  ...      3.158701       2.871868         5.031744   \n",
       "\n",
       "   worst area  worst smoothness  worst compactness  worst concavity  \\\n",
       "0    7.610853          0.150315           0.510185         0.537604   \n",
       "1    7.579168          0.116716           0.171092         0.216401   \n",
       "2    7.444249          0.134880           0.353821         0.371839   \n",
       "3    6.343353          0.190455           0.623958         0.522893   \n",
       "4    7.362645          0.128745           0.186480         0.336472   \n",
       "\n",
       "   worst concave points  worst symmetry  worst fractal dimension  \n",
       "0              0.235388        0.378505                 0.112346  \n",
       "1              0.170586        0.242946                 0.085278  \n",
       "2              0.217528        0.308440                 0.083955  \n",
       "3              0.229126        0.509104                 0.159565  \n",
       "4              0.150573        0.212204                 0.073975  \n",
       "\n",
       "[5 rows x 30 columns]"
      ]
     },
     "execution_count": 249,
     "metadata": {},
     "output_type": "execute_result"
    }
   ],
   "source": [
    "import numpy as np\n",
    "\n",
    "# Apply log transformation to the features\n",
    "X_log_transformed = np.log1p(X)\n",
    "X_log_transformed.head()"
   ]
  },
  {
   "cell_type": "code",
   "execution_count": 250,
   "id": "fc91fd56",
   "metadata": {},
   "outputs": [
    {
     "data": {
      "text/plain": [
       "mean radius                1.230228\n",
       "mean texture               0.351494\n",
       "mean perimeter             1.054482\n",
       "mean area                  0.878735\n",
       "mean smoothness            1.054482\n",
       "mean compactness           2.636204\n",
       "mean concavity             2.460457\n",
       "mean concave points        1.405975\n",
       "mean symmetry              2.636204\n",
       "mean fractal dimension     2.636204\n",
       "radius error               5.448155\n",
       "texture error              1.581722\n",
       "perimeter error            2.284710\n",
       "area error                 1.230228\n",
       "smoothness error           5.096661\n",
       "compactness error          4.569420\n",
       "concavity error            3.866432\n",
       "concave points error       3.163445\n",
       "symmetry error             4.745167\n",
       "fractal dimension error    4.920914\n",
       "worst radius               0.702988\n",
       "worst texture              0.351494\n",
       "worst perimeter            0.351494\n",
       "worst area                 0.351494\n",
       "worst smoothness           0.878735\n",
       "worst compactness          2.108963\n",
       "worst concavity            0.878735\n",
       "worst concave points       0.000000\n",
       "worst symmetry             3.514938\n",
       "worst fractal dimension    4.042179\n",
       "dtype: float64"
      ]
     },
     "execution_count": 250,
     "metadata": {},
     "output_type": "execute_result"
    }
   ],
   "source": [
    "outlier_percentage = X_log_transformed.apply(outliers).count() / len(df) * 100\n",
    "\n",
    "outlier_percentage"
   ]
  },
  {
   "cell_type": "code",
   "execution_count": 251,
   "id": "c0d0f277",
   "metadata": {},
   "outputs": [],
   "source": [
    "# scaling the feature set \n",
    "\n",
    "from sklearn.preprocessing import StandardScaler\n",
    "scaler = StandardScaler()\n",
    "\n",
    "X_scaled = pd.DataFrame(scaler.fit_transform(X_log_transformed))"
   ]
  },
  {
   "cell_type": "code",
   "execution_count": 252,
   "id": "84397612",
   "metadata": {},
   "outputs": [
    {
     "data": {
      "text/html": [
       "<div>\n",
       "<style scoped>\n",
       "    .dataframe tbody tr th:only-of-type {\n",
       "        vertical-align: middle;\n",
       "    }\n",
       "\n",
       "    .dataframe tbody tr th {\n",
       "        vertical-align: top;\n",
       "    }\n",
       "\n",
       "    .dataframe thead th {\n",
       "        text-align: right;\n",
       "    }\n",
       "</style>\n",
       "<table border=\"1\" class=\"dataframe\">\n",
       "  <thead>\n",
       "    <tr style=\"text-align: right;\">\n",
       "      <th></th>\n",
       "      <th>0</th>\n",
       "      <th>1</th>\n",
       "      <th>2</th>\n",
       "      <th>3</th>\n",
       "      <th>4</th>\n",
       "      <th>5</th>\n",
       "      <th>6</th>\n",
       "      <th>7</th>\n",
       "      <th>8</th>\n",
       "      <th>9</th>\n",
       "      <th>...</th>\n",
       "      <th>20</th>\n",
       "      <th>21</th>\n",
       "      <th>22</th>\n",
       "      <th>23</th>\n",
       "      <th>24</th>\n",
       "      <th>25</th>\n",
       "      <th>26</th>\n",
       "      <th>27</th>\n",
       "      <th>28</th>\n",
       "      <th>29</th>\n",
       "    </tr>\n",
       "  </thead>\n",
       "  <tbody>\n",
       "    <tr>\n",
       "      <th>0</th>\n",
       "      <td>1.138030</td>\n",
       "      <td>-2.658957</td>\n",
       "      <td>1.281628</td>\n",
       "      <td>1.130319</td>\n",
       "      <td>1.563449</td>\n",
       "      <td>3.150675</td>\n",
       "      <td>2.567947</td>\n",
       "      <td>2.487638</td>\n",
       "      <td>2.190236</td>\n",
       "      <td>2.251816</td>\n",
       "      <td>...</td>\n",
       "      <td>1.764045</td>\n",
       "      <td>-1.510820</td>\n",
       "      <td>2.022158</td>\n",
       "      <td>1.794344</td>\n",
       "      <td>1.305475</td>\n",
       "      <td>2.479386</td>\n",
       "      <td>2.003224</td>\n",
       "      <td>2.207318</td>\n",
       "      <td>2.682614</td>\n",
       "      <td>1.939736</td>\n",
       "    </tr>\n",
       "    <tr>\n",
       "      <th>1</th>\n",
       "      <td>1.711783</td>\n",
       "      <td>-0.267352</td>\n",
       "      <td>1.597721</td>\n",
       "      <td>1.713327</td>\n",
       "      <td>-0.827189</td>\n",
       "      <td>-0.481575</td>\n",
       "      <td>0.011104</td>\n",
       "      <td>0.571874</td>\n",
       "      <td>0.012967</td>\n",
       "      <td>-0.871539</td>\n",
       "      <td>...</td>\n",
       "      <td>1.706795</td>\n",
       "      <td>-0.270246</td>\n",
       "      <td>1.502321</td>\n",
       "      <td>1.737118</td>\n",
       "      <td>-0.368341</td>\n",
       "      <td>-0.411700</td>\n",
       "      <td>-0.077623</td>\n",
       "      <td>1.095013</td>\n",
       "      <td>-0.228740</td>\n",
       "      <td>0.292501</td>\n",
       "    </tr>\n",
       "    <tr>\n",
       "      <th>2</th>\n",
       "      <td>1.524183</td>\n",
       "      <td>0.545532</td>\n",
       "      <td>1.509470</td>\n",
       "      <td>1.511457</td>\n",
       "      <td>0.945465</td>\n",
       "      <td>1.076890</td>\n",
       "      <td>1.393265</td>\n",
       "      <td>2.021815</td>\n",
       "      <td>0.948160</td>\n",
       "      <td>-0.396907</td>\n",
       "      <td>...</td>\n",
       "      <td>1.490832</td>\n",
       "      <td>0.090437</td>\n",
       "      <td>1.362620</td>\n",
       "      <td>1.493444</td>\n",
       "      <td>0.536578</td>\n",
       "      <td>1.146233</td>\n",
       "      <td>0.929353</td>\n",
       "      <td>1.900749</td>\n",
       "      <td>1.177854</td>\n",
       "      <td>0.211979</td>\n",
       "    </tr>\n",
       "    <tr>\n",
       "      <th>3</th>\n",
       "      <td>-0.774335</td>\n",
       "      <td>0.354902</td>\n",
       "      <td>-0.550424</td>\n",
       "      <td>-0.843470</td>\n",
       "      <td>3.231311</td>\n",
       "      <td>3.256221</td>\n",
       "      <td>1.908415</td>\n",
       "      <td>1.460738</td>\n",
       "      <td>2.808556</td>\n",
       "      <td>4.856345</td>\n",
       "      <td>...</td>\n",
       "      <td>-0.179580</td>\n",
       "      <td>0.245955</td>\n",
       "      <td>-0.130272</td>\n",
       "      <td>-0.494860</td>\n",
       "      <td>3.305163</td>\n",
       "      <td>3.449402</td>\n",
       "      <td>1.907919</td>\n",
       "      <td>2.099822</td>\n",
       "      <td>5.487455</td>\n",
       "      <td>4.813255</td>\n",
       "    </tr>\n",
       "    <tr>\n",
       "      <th>4</th>\n",
       "      <td>1.652935</td>\n",
       "      <td>-1.231809</td>\n",
       "      <td>1.663405</td>\n",
       "      <td>1.667470</td>\n",
       "      <td>0.287017</td>\n",
       "      <td>0.569623</td>\n",
       "      <td>1.400416</td>\n",
       "      <td>1.438255</td>\n",
       "      <td>0.001931</td>\n",
       "      <td>-0.562573</td>\n",
       "      <td>...</td>\n",
       "      <td>1.326223</td>\n",
       "      <td>-1.669634</td>\n",
       "      <td>1.355825</td>\n",
       "      <td>1.346061</td>\n",
       "      <td>0.230922</td>\n",
       "      <td>-0.280508</td>\n",
       "      <td>0.700235</td>\n",
       "      <td>0.751489</td>\n",
       "      <td>-0.888983</td>\n",
       "      <td>-0.395358</td>\n",
       "    </tr>\n",
       "  </tbody>\n",
       "</table>\n",
       "<p>5 rows × 30 columns</p>\n",
       "</div>"
      ],
      "text/plain": [
       "         0         1         2         3         4         5         6   \\\n",
       "0  1.138030 -2.658957  1.281628  1.130319  1.563449  3.150675  2.567947   \n",
       "1  1.711783 -0.267352  1.597721  1.713327 -0.827189 -0.481575  0.011104   \n",
       "2  1.524183  0.545532  1.509470  1.511457  0.945465  1.076890  1.393265   \n",
       "3 -0.774335  0.354902 -0.550424 -0.843470  3.231311  3.256221  1.908415   \n",
       "4  1.652935 -1.231809  1.663405  1.667470  0.287017  0.569623  1.400416   \n",
       "\n",
       "         7         8         9   ...        20        21        22        23  \\\n",
       "0  2.487638  2.190236  2.251816  ...  1.764045 -1.510820  2.022158  1.794344   \n",
       "1  0.571874  0.012967 -0.871539  ...  1.706795 -0.270246  1.502321  1.737118   \n",
       "2  2.021815  0.948160 -0.396907  ...  1.490832  0.090437  1.362620  1.493444   \n",
       "3  1.460738  2.808556  4.856345  ... -0.179580  0.245955 -0.130272 -0.494860   \n",
       "4  1.438255  0.001931 -0.562573  ...  1.326223 -1.669634  1.355825  1.346061   \n",
       "\n",
       "         24        25        26        27        28        29  \n",
       "0  1.305475  2.479386  2.003224  2.207318  2.682614  1.939736  \n",
       "1 -0.368341 -0.411700 -0.077623  1.095013 -0.228740  0.292501  \n",
       "2  0.536578  1.146233  0.929353  1.900749  1.177854  0.211979  \n",
       "3  3.305163  3.449402  1.907919  2.099822  5.487455  4.813255  \n",
       "4  0.230922 -0.280508  0.700235  0.751489 -0.888983 -0.395358  \n",
       "\n",
       "[5 rows x 30 columns]"
      ]
     },
     "execution_count": 252,
     "metadata": {},
     "output_type": "execute_result"
    }
   ],
   "source": [
    "X_scaled.head()"
   ]
  },
  {
   "cell_type": "code",
   "execution_count": 253,
   "id": "7478a12e",
   "metadata": {},
   "outputs": [
    {
     "data": {
      "text/plain": [
       "0     1.230228\n",
       "1     0.351494\n",
       "2     1.054482\n",
       "3     0.878735\n",
       "4     1.054482\n",
       "5     2.636204\n",
       "6     2.460457\n",
       "7     1.405975\n",
       "8     2.636204\n",
       "9     2.636204\n",
       "10    5.448155\n",
       "11    1.581722\n",
       "12    2.284710\n",
       "13    1.230228\n",
       "14    5.096661\n",
       "15    4.569420\n",
       "16    3.866432\n",
       "17    3.163445\n",
       "18    4.745167\n",
       "19    4.920914\n",
       "20    0.702988\n",
       "21    0.351494\n",
       "22    0.351494\n",
       "23    0.351494\n",
       "24    0.878735\n",
       "25    2.108963\n",
       "26    0.878735\n",
       "27    0.000000\n",
       "28    3.514938\n",
       "29    4.042179\n",
       "dtype: float64"
      ]
     },
     "execution_count": 253,
     "metadata": {},
     "output_type": "execute_result"
    }
   ],
   "source": [
    "outlier_percentage = X_scaled.apply(outliers).count() / len(df) * 100\n",
    "\n",
    "outlier_percentage"
   ]
  },
  {
   "cell_type": "code",
   "execution_count": 254,
   "id": "d67788a0",
   "metadata": {},
   "outputs": [],
   "source": [
    "# Splitting the data into train and test set.\n",
    "\n",
    "from sklearn.model_selection import train_test_split\n",
    "X_train, X_test, Y_train, Y_test = train_test_split(X_scaled, Y, test_size=0.3, random_state=0)"
   ]
  },
  {
   "cell_type": "code",
   "execution_count": 255,
   "id": "b42d57b3",
   "metadata": {},
   "outputs": [
    {
     "data": {
      "text/plain": [
       "(398, 30)"
      ]
     },
     "execution_count": 255,
     "metadata": {},
     "output_type": "execute_result"
    }
   ],
   "source": [
    "X_train.shape"
   ]
  },
  {
   "cell_type": "code",
   "execution_count": 256,
   "id": "9f8a17a0",
   "metadata": {},
   "outputs": [],
   "source": [
    "# we will fit 3 classification algorithms here - Decision Tree, KNN and Naive Bayes.\n",
    "# and then compare the performence of all three of them to judge which one fits better for this analysis."
   ]
  },
  {
   "cell_type": "code",
   "execution_count": 257,
   "id": "6a385fbb",
   "metadata": {},
   "outputs": [],
   "source": [
    "# Let's start with Decision tree\n",
    "\n",
    "from sklearn.tree import DecisionTreeClassifier\n",
    "dt=DecisionTreeClassifier()\n",
    "\n",
    "# Training the Decision Tree model on the training data\n",
    "dt_train = dt.fit(X_train, Y_train)\n",
    "\n",
    "# Making predictions on the test data\n",
    "Y_pred = dt.predict(X_test)"
   ]
  },
  {
   "cell_type": "code",
   "execution_count": 258,
   "id": "a3186fc8",
   "metadata": {},
   "outputs": [
    {
     "name": "stdout",
     "output_type": "stream",
     "text": [
      "Accuracy: 91.22807017543859\n",
      "Precision: 95.14563106796116\n",
      "Recall: 90.74074074074075\n",
      "F1-Score: 92.89099526066352\n"
     ]
    },
    {
     "data": {
      "text/plain": [
       "'\\nRecall is more important here since the cost of False negative \\n(Model predicting Benign when in reality the tumor is malignant) is very high in this case.\\n\\n'"
      ]
     },
     "execution_count": 258,
     "metadata": {},
     "output_type": "execute_result"
    }
   ],
   "source": [
    "# checking the performance of our model\n",
    "    \n",
    "from sklearn.metrics import accuracy_score, precision_score, recall_score, f1_score\n",
    "\n",
    "accuracy = accuracy_score(Y_test, Y_pred)\n",
    "precision = precision_score(Y_test, Y_pred)\n",
    "recall = recall_score(Y_test, Y_pred)\n",
    "f1 = f1_score(Y_test, Y_pred)\n",
    "\n",
    "print(\"Accuracy:\", accuracy*100)\n",
    "print(\"Precision:\",precision*100)\n",
    "print(\"Recall:\",recall*100)\n",
    "print(\"F1-Score:\",f1*100)\n",
    "\n",
    "'''\n",
    "Recall is more important here since the cost of False negative \n",
    "(Model predicting Benign when in reality the tumor is malignant) is very high in this case.\n",
    "\n",
    "'''"
   ]
  },
  {
   "cell_type": "code",
   "execution_count": 259,
   "id": "c2511f23",
   "metadata": {},
   "outputs": [
    {
     "name": "stdout",
     "output_type": "stream",
     "text": [
      "CV_Accuracy: 91.03400093153236\n",
      "CV_Precision: 95.19645006007714\n",
      "CV_Recall: 91.85054773082942\n",
      "CV_F1-Score: 94.32907357763504\n"
     ]
    }
   ],
   "source": [
    "# now we will perform Cross validation here and check the performance metrics again to be more sure about the fit of the model\n",
    "\n",
    "from sklearn.model_selection import cross_val_score\n",
    "\n",
    "cv_accuracy = cross_val_score(dt, X_scaled, Y, cv=5, scoring='accuracy')\n",
    "cv_precision = cross_val_score(dt, X_scaled, Y, cv=5, scoring='precision')\n",
    "cv_recall = cross_val_score(dt, X_scaled, Y, cv=5, scoring='recall')\n",
    "cv_f1 = cross_val_score(dt, X_scaled, Y, cv=5, scoring='f1')\n",
    "\n",
    "print(\"CV_Accuracy:\", cv_accuracy.mean()*100)\n",
    "print(\"CV_Precision:\",cv_precision.mean()*100)\n",
    "print(\"CV_Recall:\",cv_recall.mean()*100)\n",
    "print(\"CV_F1-Score:\",cv_f1.mean()*100)\n",
    "\n",
    "# our recall value increases even further here so that is a good thing."
   ]
  },
  {
   "cell_type": "code",
   "execution_count": 260,
   "id": "de8ed101",
   "metadata": {},
   "outputs": [
    {
     "name": "stdout",
     "output_type": "stream",
     "text": [
      "CV_Accuracy_sd: 1.3123535685950016\n",
      "CV_Precision_sd: 1.7248854029255616\n",
      "CV_Recall_sd: 4.415246894244394\n",
      "CV_F1-Score_sd: 1.4831910347354784\n"
     ]
    }
   ],
   "source": [
    "print(\"CV_Accuracy_sd:\", cv_accuracy.std()*100)\n",
    "print(\"CV_Precision_sd:\",cv_precision.std()*100)\n",
    "print(\"CV_Recall_sd:\",cv_recall.std()*100)\n",
    "print(\"CV_F1-Score_sd:\",cv_f1.std()*100)\n",
    "\n",
    "# recall standard deviation turns out to be more but still not much when we perform cross validation."
   ]
  },
  {
   "cell_type": "code",
   "execution_count": 261,
   "id": "dae2cebf",
   "metadata": {},
   "outputs": [
    {
     "data": {
      "text/plain": [
       "7"
      ]
     },
     "execution_count": 261,
     "metadata": {},
     "output_type": "execute_result"
    }
   ],
   "source": [
    "# Now when the tree is allowed to grow fully, the maximum depth of the tree is given by \n",
    "\n",
    "dt.tree_.max_depth"
   ]
  },
  {
   "cell_type": "code",
   "execution_count": 262,
   "id": "42241804",
   "metadata": {},
   "outputs": [],
   "source": [
    "# we Will now tune the hyperparameters using the GridSearch-CV method.\n",
    "\n",
    "from sklearn.model_selection import GridSearchCV\n",
    "\n",
    "# Defining the possible values of the hyperparameters \n",
    "\n",
    "hyperparameters = {'criterion': ['gini','entropy'],'max_depth': [None,5,10,15],'min_samples_split': [2,5,10],'min_samples_leaf': [1,2,4,6]}"
   ]
  },
  {
   "cell_type": "code",
   "execution_count": 263,
   "id": "1146cd98",
   "metadata": {},
   "outputs": [
    {
     "data": {
      "text/plain": [
       "{'criterion': 'gini',\n",
       " 'max_depth': 5,\n",
       " 'min_samples_leaf': 1,\n",
       " 'min_samples_split': 5}"
      ]
     },
     "execution_count": 263,
     "metadata": {},
     "output_type": "execute_result"
    }
   ],
   "source": [
    "# creating the grid search cv object with a 5 fold cross-validation.\n",
    "\n",
    "grid_search = GridSearchCV(estimator=dt, param_grid=hyperparameters, cv=5, scoring='recall')\n",
    "grid_search.fit(X_train,Y_train) # fitting the object on your training dataset.\n",
    "\n",
    "tuned_hyp = grid_search.best_params_ #the best set of hyperparameters based upon the recall metric.\n",
    "tuned_hyp"
   ]
  },
  {
   "cell_type": "code",
   "execution_count": 264,
   "id": "b2fc55d9",
   "metadata": {},
   "outputs": [],
   "source": [
    "# fitting the decision tree with these best tuned hyperparameters\n",
    "\n",
    "best_dt = DecisionTreeClassifier(random_state=0, **tuned_hyp)\n",
    "best_dt.fit(X_train,Y_train)\n",
    "\n",
    "# making the predictions\n",
    "Y_pred_best = best_dt.predict(X_test)"
   ]
  },
  {
   "cell_type": "code",
   "execution_count": 269,
   "id": "71e845e9",
   "metadata": {},
   "outputs": [
    {
     "name": "stdout",
     "output_type": "stream",
     "text": [
      "Accuracy: 93.56725146198829\n",
      "Precision: 97.0873786407767\n",
      "Recall: 92.5925925925926\n",
      "F1-Score: 94.7867298578199\n"
     ]
    }
   ],
   "source": [
    "# checking the performance\n",
    "\n",
    "accuracy_best = accuracy_score(Y_test, Y_pred_best)\n",
    "precision_best = precision_score(Y_test, Y_pred_best)\n",
    "recall_best = recall_score(Y_test, Y_pred_best)\n",
    "f1_best = f1_score(Y_test, Y_pred_best)\n",
    "\n",
    "print(\"Accuracy:\", accuracy_best*100)\n",
    "print(\"Precision:\",precision_best*100)\n",
    "print(\"Recall:\",recall_best*100)\n",
    "print(\"F1-Score:\",f1_best*100)\n",
    "\n",
    "# we can see none of the metrics increase much once we tune the hyperparameters. Recall even decreases.\n",
    "# so we can ignore tuning the hyperparameters in this case."
   ]
  },
  {
   "cell_type": "code",
   "execution_count": 270,
   "id": "b3b907bf",
   "metadata": {},
   "outputs": [
    {
     "data": {
      "text/plain": [
       "array([0.        , 0.        , 0.00990228, 0.        , 0.        ,\n",
       "       0.        , 0.        , 0.        , 0.01815419, 0.        ,\n",
       "       0.00503366, 0.        , 0.        , 0.04749283, 0.00139161,\n",
       "       0.        , 0.        , 0.01609121, 0.        , 0.00919498,\n",
       "       0.0963153 , 0.01067849, 0.        , 0.        , 0.        ,\n",
       "       0.01584365, 0.02748451, 0.728114  , 0.0143033 , 0.        ])"
      ]
     },
     "execution_count": 270,
     "metadata": {},
     "output_type": "execute_result"
    }
   ],
   "source": [
    "# we can further check for the important features to avoid features which are not important for the model\n",
    "\n",
    "dt.feature_importances_"
   ]
  },
  {
   "cell_type": "code",
   "execution_count": 271,
   "id": "e7cc768a",
   "metadata": {},
   "outputs": [],
   "source": [
    "feature_importance = dt.feature_importances_"
   ]
  },
  {
   "cell_type": "code",
   "execution_count": 272,
   "id": "79cb751c",
   "metadata": {},
   "outputs": [
    {
     "data": {
      "text/plain": [
       "[2, 8, 10, 13, 14, 17, 19, 20, 21, 25, 26, 27, 28]"
      ]
     },
     "execution_count": 272,
     "metadata": {},
     "output_type": "execute_result"
    }
   ],
   "source": [
    "important_features_index = [feature for feature, importance in enumerate(feature_importance) if importance > 0]\n",
    "important_features_index"
   ]
  },
  {
   "cell_type": "code",
   "execution_count": 273,
   "id": "5438c489",
   "metadata": {},
   "outputs": [
    {
     "data": {
      "text/plain": [
       "['mean perimeter',\n",
       " 'mean symmetry',\n",
       " 'radius error',\n",
       " 'area error',\n",
       " 'smoothness error',\n",
       " 'concave points error',\n",
       " 'fractal dimension error',\n",
       " 'worst radius',\n",
       " 'worst texture',\n",
       " 'worst compactness',\n",
       " 'worst concavity',\n",
       " 'worst concave points',\n",
       " 'worst symmetry']"
      ]
     },
     "execution_count": 273,
     "metadata": {},
     "output_type": "execute_result"
    }
   ],
   "source": [
    "feature_names_imp = [df.columns[i] for i in important_features_index]\n",
    "feature_names_imp"
   ]
  },
  {
   "cell_type": "code",
   "execution_count": 274,
   "id": "23ce785d",
   "metadata": {},
   "outputs": [
    {
     "data": {
      "text/plain": [
       "(398, 30)"
      ]
     },
     "execution_count": 274,
     "metadata": {},
     "output_type": "execute_result"
    }
   ],
   "source": [
    "X_train.shape"
   ]
  },
  {
   "cell_type": "code",
   "execution_count": 275,
   "id": "76b851ad",
   "metadata": {},
   "outputs": [
    {
     "data": {
      "text/plain": [
       "(171, 30)"
      ]
     },
     "execution_count": 275,
     "metadata": {},
     "output_type": "execute_result"
    }
   ],
   "source": [
    "X_test.shape"
   ]
  },
  {
   "cell_type": "code",
   "execution_count": 276,
   "id": "5e7cb53d",
   "metadata": {},
   "outputs": [],
   "source": [
    "# creating new training and test set out of the important features only.\n",
    "\n",
    "X_train_important = X_train.iloc[:, important_features_index]\n",
    "X_test_important = X_test.iloc[:, important_features_index]"
   ]
  },
  {
   "cell_type": "code",
   "execution_count": 277,
   "id": "3bc45477",
   "metadata": {},
   "outputs": [],
   "source": [
    "# fitting the tuned decision tree on this new training set - \n",
    "\n",
    "dt.fit(X_train_important, Y_train)\n",
    "\n",
    "# making the predictions \n",
    "\n",
    "Y_pred_important = dt.predict(X_test_important)"
   ]
  },
  {
   "cell_type": "code",
   "execution_count": 278,
   "id": "08036f4f",
   "metadata": {},
   "outputs": [
    {
     "name": "stdout",
     "output_type": "stream",
     "text": [
      "Accuracy with Important Features: 90.64327485380117\n",
      "Precision with Important Features: 96.0\n",
      "Recall with Important Features: 88.88888888888889\n",
      "F1 Score with Important Features: 92.3076923076923\n"
     ]
    }
   ],
   "source": [
    "# Calculating performance metrics for the model with important features\n",
    "\n",
    "accuracy_important = accuracy_score(Y_test, Y_pred_important)\n",
    "precision_important = precision_score(Y_test, Y_pred_important)\n",
    "recall_important = recall_score(Y_test, Y_pred_important)\n",
    "f1_important = f1_score(Y_test, Y_pred_important)\n",
    "\n",
    "print(\"Accuracy with Important Features:\", accuracy_important*100)\n",
    "print(\"Precision with Important Features:\", precision_important*100)\n",
    "print(\"Recall with Important Features:\", recall_important*100)\n",
    "print(\"F1 Score with Important Features:\", f1_important*100)\n",
    "\n",
    "\n",
    "# however, recall with important features have fallen a bit since the original dt. "
   ]
  },
  {
   "cell_type": "code",
   "execution_count": 279,
   "id": "8c22251b",
   "metadata": {},
   "outputs": [
    {
     "data": {
      "image/png": "[encoded data removed]",
      "text/plain": [
       "<Figure size 1200x800 with 1 Axes>"
      ]
     },
     "metadata": {},
     "output_type": "display_data"
    }
   ],
   "source": [
    "# Visualize the Decision Tree\n",
    "\n",
    "import matplotlib.pyplot as plt\n",
    "from sklearn.tree import plot_tree\n",
    "plt.figure(figsize=(12, 8))\n",
    "plot_tree(best_dt, filled=True, feature_names=load_breast_cancer()['feature_names'], class_names=[\"malignant\", \"benign\"])\n",
    "plt.show()"
   ]
  },
  {
   "cell_type": "markdown",
   "id": "d2e4d8ab",
   "metadata": {},
   "source": [
    "although recall and precision has decreased slightly compared to the initial model, the change is not very significant.\n",
    "we can therefore keep the original Decision tree as the best fit tree for this dataset."
   ]
  },
  {
   "cell_type": "markdown",
   "id": "c5e6ba1d",
   "metadata": {},
   "source": [
    "Now we will apply the K-NN algorithm on the same datase to assess the performance of thaat algorith and see if it is a better model than the Decision Tree."
   ]
  },
  {
   "cell_type": "code",
   "execution_count": 280,
   "id": "0c9c5a21",
   "metadata": {},
   "outputs": [],
   "source": [
    "from sklearn.neighbors import KNeighborsClassifier"
   ]
  },
  {
   "cell_type": "code",
   "execution_count": 281,
   "id": "7db77cf2",
   "metadata": {},
   "outputs": [],
   "source": [
    "# Splitting the data into a training and testing set\n",
    "\n",
    "X_train, X_test, Y_train, Y_test = train_test_split(X_scaled, Y, test_size=0.3, random_state=0)"
   ]
  },
  {
   "cell_type": "code",
   "execution_count": 282,
   "id": "fdd239e7",
   "metadata": {},
   "outputs": [],
   "source": [
    "# Creating a KNN classifier\n",
    "\n",
    "knn = KNeighborsClassifier() "
   ]
  },
  {
   "cell_type": "code",
   "execution_count": 289,
   "id": "6a807d3b",
   "metadata": {},
   "outputs": [
    {
     "name": "stdout",
     "output_type": "stream",
     "text": [
      "5 : 0.9943661971830986\n"
     ]
    }
   ],
   "source": [
    "# Performing k-fold cross-validation for each k value between 1-20 to find the optimal value of k\n",
    "\n",
    "k_accuracy = {}\n",
    "for k in range(1,21):\n",
    "    knn = KNeighborsClassifier(n_neighbors=k)\n",
    "    scores = cross_val_score(knn, X_scaled, Y, cv=5, scoring='recall')\n",
    "    k_accuracy[k] = scores.mean()\n",
    "    \n",
    "# finding the best value of k --\n",
    "best_k = max(k_accuracy, key=k_accuracy.get)\n",
    "print(best_k,':',k_accuracy[best_k])"
   ]
  },
  {
   "cell_type": "code",
   "execution_count": 290,
   "id": "fed29377",
   "metadata": {},
   "outputs": [],
   "source": [
    "# we will run the model with the k value as 6\n",
    "\n",
    "knn_best = KNeighborsClassifier(n_neighbors=5)"
   ]
  },
  {
   "cell_type": "code",
   "execution_count": 291,
   "id": "5dc7de83",
   "metadata": {},
   "outputs": [],
   "source": [
    "# Fitting the KNN classifier on the training data\n",
    "knn_best.fit(X_train, Y_train)\n",
    "\n",
    "# Making predictions on the test data\n",
    "Y_pred = knn_best.predict(X_test)"
   ]
  },
  {
   "cell_type": "code",
   "execution_count": 292,
   "id": "c2a63e47",
   "metadata": {},
   "outputs": [
    {
     "name": "stdout",
     "output_type": "stream",
     "text": [
      "Accuracy: 96.49122807017544\n",
      "Precision: 96.36363636363636\n",
      "Recall: 98.14814814814815\n",
      "F1-Score: 97.24770642201834\n"
     ]
    }
   ],
   "source": [
    "# Calculating metrics for the test data\n",
    "\n",
    "accuracy = accuracy_score(Y_test, Y_pred)\n",
    "precision = precision_score(Y_test, Y_pred)\n",
    "recall = recall_score(Y_test, Y_pred)\n",
    "f1 = f1_score(Y_test, Y_pred)\n",
    "\n",
    "print(\"Accuracy:\", accuracy*100)\n",
    "print(\"Precision:\",precision*100)\n",
    "print(\"Recall:\",recall*100)\n",
    "print(\"F1-Score:\",f1*100)\n",
    "\n",
    "# the recall value is very good. "
   ]
  },
  {
   "cell_type": "code",
   "execution_count": 293,
   "id": "3ec34f51",
   "metadata": {},
   "outputs": [
    {
     "name": "stdout",
     "output_type": "stream",
     "text": [
      "CV_Accuracy: 97.36376339077782\n",
      "CV_Precision: 96.47857994981281\n",
      "CV_Recall: 99.43661971830986\n",
      "CV_F1-Score: 97.93087700476863\n"
     ]
    }
   ],
   "source": [
    "# checking with a 5-fold cross validation -\n",
    "\n",
    "cv_accuracy = cross_val_score(knn_best, X_scaled, Y, cv=5, scoring='accuracy')\n",
    "cv_precision = cross_val_score(knn_best, X_scaled, Y, cv=5, scoring='precision')\n",
    "cv_recall = cross_val_score(knn_best, X_scaled, Y, cv=5, scoring='recall')\n",
    "cv_f1 = cross_val_score(knn_best, X_scaled, Y, cv=5, scoring='f1')\n",
    "\n",
    "print(\"CV_Accuracy:\", cv_accuracy.mean()*100)\n",
    "print(\"CV_Precision:\",cv_precision.mean()*100)\n",
    "print(\"CV_Recall:\",cv_recall.mean()*100)\n",
    "print(\"CV_F1-Score:\",cv_f1.mean()*100)\n",
    "\n",
    "# however, with cross validation, the recall increases slightly but nonetheless, the performance is quite high."
   ]
  },
  {
   "cell_type": "code",
   "execution_count": 294,
   "id": "d48b25b5",
   "metadata": {},
   "outputs": [
    {
     "name": "stdout",
     "output_type": "stream",
     "text": [
      "CV_Accuracy_sd: 1.1096102112040305\n",
      "CV_Precision_sd: 1.359730861581985\n",
      "CV_Recall_sd: 0.6899971106431477\n",
      "CV_F1-Score_sd: 0.8725392407609213\n"
     ]
    }
   ],
   "source": [
    "print(\"CV_Accuracy_sd:\", cv_accuracy.std()*100)\n",
    "print(\"CV_Precision_sd:\",cv_precision.std()*100)\n",
    "print(\"CV_Recall_sd:\",cv_recall.std()*100)\n",
    "print(\"CV_F1-Score_sd:\",cv_f1.std()*100)\n",
    "\n",
    "# recall standard deviation is negligible."
   ]
  },
  {
   "cell_type": "markdown",
   "id": "7b911aa2",
   "metadata": {},
   "source": [
    "The recall score of the KNN approach is higher than that of the Decision tree (with the important features).\n",
    "KNN seems to be a better fit model in this case"
   ]
  },
  {
   "cell_type": "markdown",
   "id": "c5e5a520",
   "metadata": {},
   "source": [
    "finally, we will check the performance of The Naive Bayes approach"
   ]
  },
  {
   "cell_type": "code",
   "execution_count": 295,
   "id": "da4980f3",
   "metadata": {},
   "outputs": [],
   "source": [
    "from sklearn.naive_bayes import GaussianNB"
   ]
  },
  {
   "cell_type": "code",
   "execution_count": 296,
   "id": "88802be8",
   "metadata": {},
   "outputs": [],
   "source": [
    "# Splitting the data into a training and testing set\n",
    "\n",
    "X_train, X_test, Y_train, Y_test = train_test_split(X_scaled, Y, test_size=0.3, random_state=0)"
   ]
  },
  {
   "cell_type": "code",
   "execution_count": 297,
   "id": "ca2684c2",
   "metadata": {},
   "outputs": [],
   "source": [
    "# Creating a Naive Bayes classifier (GaussianNB since the features are continuous)\n",
    "\n",
    "nb = GaussianNB()"
   ]
  },
  {
   "cell_type": "code",
   "execution_count": 298,
   "id": "6123e74d",
   "metadata": {},
   "outputs": [],
   "source": [
    "# Training the Naive Bayes model on the training data\n",
    "nb.fit(X_train, Y_train)\n",
    "\n",
    "# Making predictions on the test data\n",
    "y_pred = nb.predict(X_test)"
   ]
  },
  {
   "cell_type": "code",
   "execution_count": 299,
   "id": "d398d35b",
   "metadata": {},
   "outputs": [
    {
     "name": "stdout",
     "output_type": "stream",
     "text": [
      "Accuracy: 96.49122807017544\n",
      "Precision: 96.36363636363636\n",
      "Recall: 98.14814814814815\n",
      "F1-Score: 97.24770642201834\n"
     ]
    }
   ],
   "source": [
    "# Calculating metrics for the test set\n",
    "\n",
    "accuracy = accuracy_score(Y_test, Y_pred)\n",
    "precision = precision_score(Y_test, Y_pred)\n",
    "recall = recall_score(Y_test, Y_pred)\n",
    "f1 = f1_score(Y_test, Y_pred)\n",
    "\n",
    "print(\"Accuracy:\", accuracy*100)\n",
    "print(\"Precision:\",precision*100)\n",
    "print(\"Recall:\",recall*100)\n",
    "print(\"F1-Score:\",f1*100)\n",
    "\n",
    "# the recall value is slightly lower than the KNN approach"
   ]
  },
  {
   "cell_type": "code",
   "execution_count": 300,
   "id": "4b4d9f55",
   "metadata": {},
   "outputs": [
    {
     "name": "stdout",
     "output_type": "stream",
     "text": [
      "CV_Accuracy: 94.72907933550691\n",
      "CV_Precision: 95.0647771901463\n",
      "CV_Recall: 96.63145539906104\n",
      "CV_F1-Score: 95.81200932317167\n"
     ]
    }
   ],
   "source": [
    "# checking with a 5-fold cross validation -\n",
    "\n",
    "cv_accuracy = cross_val_score(nb, X_scaled, Y, cv=5, scoring='accuracy')\n",
    "cv_precision = cross_val_score(nb, X_scaled, Y, cv=5, scoring='precision')\n",
    "cv_recall = cross_val_score(nb, X_scaled, Y, cv=5, scoring='recall')\n",
    "cv_f1 = cross_val_score(nb, X_scaled, Y, cv=5, scoring='f1')\n",
    "\n",
    "print(\"CV_Accuracy:\", cv_accuracy.mean()*100)\n",
    "print(\"CV_Precision:\",cv_precision.mean()*100)\n",
    "print(\"CV_Recall:\",cv_recall.mean()*100)\n",
    "print(\"CV_F1-Score:\",cv_f1.mean()*100)\n",
    "\n",
    "# however, with cross validation, the recall score happens to fall even further."
   ]
  },
  {
   "cell_type": "code",
   "execution_count": 301,
   "id": "cfd47e51",
   "metadata": {},
   "outputs": [
    {
     "name": "stdout",
     "output_type": "stream",
     "text": [
      "CV_Accuracy_sd: 1.7505691251559148\n",
      "CV_Precision_sd: 1.3117350809066528\n",
      "CV_Recall_sd: 2.9043966831787915\n",
      "CV_F1-Score_sd: 1.4783783224723646\n"
     ]
    }
   ],
   "source": [
    "print(\"CV_Accuracy_sd:\", cv_accuracy.std()*100)\n",
    "print(\"CV_Precision_sd:\",cv_precision.std()*100)\n",
    "print(\"CV_Recall_sd:\",cv_recall.std()*100)\n",
    "print(\"CV_F1-Score_sd:\",cv_f1.std()*100)\n",
    "\n",
    "# recall standard deviation turns out to be more but still not much when we perform cross validation."
   ]
  },
  {
   "cell_type": "markdown",
   "id": "ed1085a4",
   "metadata": {},
   "source": [
    "We can conclude that, for performing classification technique on the Breast Cancer Dataset, the best approach would be to go with a KNN algorithm with the number of nearest neighbors to be 5 than to perform a Naive Bayes algorithm or a decision tree.\n",
    "\n",
    "However, for future considerations, it's worth exploring the performance of ensemble learning algorithms to determine if they outperform the supervised learning algorithms we've examined so far."
   ]
  }
 ],
 "metadata": {
  "kernelspec": {
   "display_name": "Python 3 (ipykernel)",
   "language": "python",
   "name": "python3"
  },
  "language_info": {
   "codemirror_mode": {
    "name": "ipython",
    "version": 3
   },
   "file_extension": ".py",
   "mimetype": "text/x-python",
   "name": "python",
   "nbconvert_exporter": "python",
   "pygments_lexer": "ipython3",
   "version": "3.11.3"
  }
 },
 "nbformat": 4,
 "nbformat_minor": 5
}
