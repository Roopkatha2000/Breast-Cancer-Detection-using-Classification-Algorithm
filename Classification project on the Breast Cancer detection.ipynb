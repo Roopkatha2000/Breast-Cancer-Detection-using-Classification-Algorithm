{
 "cells": [
  {
   "cell_type": "code",
   "execution_count": 54,
   "id": "e3e75ccd",
   "metadata": {},
   "outputs": [],
   "source": [
    "import pandas as pd\n",
    "from sklearn.datasets import load_breast_cancer"
   ]
  },
  {
   "cell_type": "code",
   "execution_count": 55,
   "id": "bb0ef7e6",
   "metadata": {},
   "outputs": [
    {
     "data": {
      "text/html": [
       "<div>\n",
       "<style scoped>\n",
       "    .dataframe tbody tr th:only-of-type {\n",
       "        vertical-align: middle;\n",
       "    }\n",
       "\n",
       "    .dataframe tbody tr th {\n",
       "        vertical-align: top;\n",
       "    }\n",
       "\n",
       "    .dataframe thead th {\n",
       "        text-align: right;\n",
       "    }\n",
       "</style>\n",
       "<table border=\"1\" class=\"dataframe\">\n",
       "  <thead>\n",
       "    <tr style=\"text-align: right;\">\n",
       "      <th></th>\n",
       "      <th>mean radius</th>\n",
       "      <th>mean texture</th>\n",
       "      <th>mean perimeter</th>\n",
       "      <th>mean area</th>\n",
       "      <th>mean smoothness</th>\n",
       "      <th>mean compactness</th>\n",
       "      <th>mean concavity</th>\n",
       "      <th>mean concave points</th>\n",
       "      <th>mean symmetry</th>\n",
       "      <th>mean fractal dimension</th>\n",
       "      <th>...</th>\n",
       "      <th>worst radius</th>\n",
       "      <th>worst texture</th>\n",
       "      <th>worst perimeter</th>\n",
       "      <th>worst area</th>\n",
       "      <th>worst smoothness</th>\n",
       "      <th>worst compactness</th>\n",
       "      <th>worst concavity</th>\n",
       "      <th>worst concave points</th>\n",
       "      <th>worst symmetry</th>\n",
       "      <th>worst fractal dimension</th>\n",
       "    </tr>\n",
       "  </thead>\n",
       "  <tbody>\n",
       "    <tr>\n",
       "      <th>0</th>\n",
       "      <td>17.99</td>\n",
       "      <td>10.38</td>\n",
       "      <td>122.80</td>\n",
       "      <td>1001.0</td>\n",
       "      <td>0.11840</td>\n",
       "      <td>0.27760</td>\n",
       "      <td>0.3001</td>\n",
       "      <td>0.14710</td>\n",
       "      <td>0.2419</td>\n",
       "      <td>0.07871</td>\n",
       "      <td>...</td>\n",
       "      <td>25.38</td>\n",
       "      <td>17.33</td>\n",
       "      <td>184.60</td>\n",
       "      <td>2019.0</td>\n",
       "      <td>0.1622</td>\n",
       "      <td>0.6656</td>\n",
       "      <td>0.7119</td>\n",
       "      <td>0.2654</td>\n",
       "      <td>0.4601</td>\n",
       "      <td>0.11890</td>\n",
       "    </tr>\n",
       "    <tr>\n",
       "      <th>1</th>\n",
       "      <td>20.57</td>\n",
       "      <td>17.77</td>\n",
       "      <td>132.90</td>\n",
       "      <td>1326.0</td>\n",
       "      <td>0.08474</td>\n",
       "      <td>0.07864</td>\n",
       "      <td>0.0869</td>\n",
       "      <td>0.07017</td>\n",
       "      <td>0.1812</td>\n",
       "      <td>0.05667</td>\n",
       "      <td>...</td>\n",
       "      <td>24.99</td>\n",
       "      <td>23.41</td>\n",
       "      <td>158.80</td>\n",
       "      <td>1956.0</td>\n",
       "      <td>0.1238</td>\n",
       "      <td>0.1866</td>\n",
       "      <td>0.2416</td>\n",
       "      <td>0.1860</td>\n",
       "      <td>0.2750</td>\n",
       "      <td>0.08902</td>\n",
       "    </tr>\n",
       "    <tr>\n",
       "      <th>2</th>\n",
       "      <td>19.69</td>\n",
       "      <td>21.25</td>\n",
       "      <td>130.00</td>\n",
       "      <td>1203.0</td>\n",
       "      <td>0.10960</td>\n",
       "      <td>0.15990</td>\n",
       "      <td>0.1974</td>\n",
       "      <td>0.12790</td>\n",
       "      <td>0.2069</td>\n",
       "      <td>0.05999</td>\n",
       "      <td>...</td>\n",
       "      <td>23.57</td>\n",
       "      <td>25.53</td>\n",
       "      <td>152.50</td>\n",
       "      <td>1709.0</td>\n",
       "      <td>0.1444</td>\n",
       "      <td>0.4245</td>\n",
       "      <td>0.4504</td>\n",
       "      <td>0.2430</td>\n",
       "      <td>0.3613</td>\n",
       "      <td>0.08758</td>\n",
       "    </tr>\n",
       "    <tr>\n",
       "      <th>3</th>\n",
       "      <td>11.42</td>\n",
       "      <td>20.38</td>\n",
       "      <td>77.58</td>\n",
       "      <td>386.1</td>\n",
       "      <td>0.14250</td>\n",
       "      <td>0.28390</td>\n",
       "      <td>0.2414</td>\n",
       "      <td>0.10520</td>\n",
       "      <td>0.2597</td>\n",
       "      <td>0.09744</td>\n",
       "      <td>...</td>\n",
       "      <td>14.91</td>\n",
       "      <td>26.50</td>\n",
       "      <td>98.87</td>\n",
       "      <td>567.7</td>\n",
       "      <td>0.2098</td>\n",
       "      <td>0.8663</td>\n",
       "      <td>0.6869</td>\n",
       "      <td>0.2575</td>\n",
       "      <td>0.6638</td>\n",
       "      <td>0.17300</td>\n",
       "    </tr>\n",
       "    <tr>\n",
       "      <th>4</th>\n",
       "      <td>20.29</td>\n",
       "      <td>14.34</td>\n",
       "      <td>135.10</td>\n",
       "      <td>1297.0</td>\n",
       "      <td>0.10030</td>\n",
       "      <td>0.13280</td>\n",
       "      <td>0.1980</td>\n",
       "      <td>0.10430</td>\n",
       "      <td>0.1809</td>\n",
       "      <td>0.05883</td>\n",
       "      <td>...</td>\n",
       "      <td>22.54</td>\n",
       "      <td>16.67</td>\n",
       "      <td>152.20</td>\n",
       "      <td>1575.0</td>\n",
       "      <td>0.1374</td>\n",
       "      <td>0.2050</td>\n",
       "      <td>0.4000</td>\n",
       "      <td>0.1625</td>\n",
       "      <td>0.2364</td>\n",
       "      <td>0.07678</td>\n",
       "    </tr>\n",
       "  </tbody>\n",
       "</table>\n",
       "<p>5 rows × 30 columns</p>\n",
       "</div>"
      ],
      "text/plain": [
       "   mean radius  mean texture  mean perimeter  mean area  mean smoothness  \\\n",
       "0        17.99         10.38          122.80     1001.0          0.11840   \n",
       "1        20.57         17.77          132.90     1326.0          0.08474   \n",
       "2        19.69         21.25          130.00     1203.0          0.10960   \n",
       "3        11.42         20.38           77.58      386.1          0.14250   \n",
       "4        20.29         14.34          135.10     1297.0          0.10030   \n",
       "\n",
       "   mean compactness  mean concavity  mean concave points  mean symmetry  \\\n",
       "0           0.27760          0.3001              0.14710         0.2419   \n",
       "1           0.07864          0.0869              0.07017         0.1812   \n",
       "2           0.15990          0.1974              0.12790         0.2069   \n",
       "3           0.28390          0.2414              0.10520         0.2597   \n",
       "4           0.13280          0.1980              0.10430         0.1809   \n",
       "\n",
       "   mean fractal dimension  ...  worst radius  worst texture  worst perimeter  \\\n",
       "0                 0.07871  ...         25.38          17.33           184.60   \n",
       "1                 0.05667  ...         24.99          23.41           158.80   \n",
       "2                 0.05999  ...         23.57          25.53           152.50   \n",
       "3                 0.09744  ...         14.91          26.50            98.87   \n",
       "4                 0.05883  ...         22.54          16.67           152.20   \n",
       "\n",
       "   worst area  worst smoothness  worst compactness  worst concavity  \\\n",
       "0      2019.0            0.1622             0.6656           0.7119   \n",
       "1      1956.0            0.1238             0.1866           0.2416   \n",
       "2      1709.0            0.1444             0.4245           0.4504   \n",
       "3       567.7            0.2098             0.8663           0.6869   \n",
       "4      1575.0            0.1374             0.2050           0.4000   \n",
       "\n",
       "   worst concave points  worst symmetry  worst fractal dimension  \n",
       "0                0.2654          0.4601                  0.11890  \n",
       "1                0.1860          0.2750                  0.08902  \n",
       "2                0.2430          0.3613                  0.08758  \n",
       "3                0.2575          0.6638                  0.17300  \n",
       "4                0.1625          0.2364                  0.07678  \n",
       "\n",
       "[5 rows x 30 columns]"
      ]
     },
     "execution_count": 55,
     "metadata": {},
     "output_type": "execute_result"
    }
   ],
   "source": [
    "'''\n",
    "'load_breast_cancer()' contains a total of 30 features (input variables or attributes)\n",
    "which are characteristics of the tumors - such as mean radius, mean texture etcetera.\n",
    "we are loading all the features in a pandas DataFrame named df.\n",
    "'''\n",
    "\n",
    "df = pd.DataFrame(data=load_breast_cancer()['data'], columns = load_breast_cancer()['feature_names'])\n",
    "df.head()"
   ]
  },
  {
   "cell_type": "code",
   "execution_count": 56,
   "id": "4263f452",
   "metadata": {},
   "outputs": [],
   "source": [
    "# this df will be the features set for our analysis to classify wether a new tumor would be Benign or Malignant.\n",
    "\n",
    "from sklearn.model_selection import train_test_split\n",
    "X = df.copy()\n",
    "Y = load_breast_cancer()['target'] # the target variable in the dataset.\n",
    "X_train, X_test, Y_train, Y_test = train_test_split(X, Y, test_size=0.3, random_state=0)"
   ]
  },
  {
   "cell_type": "code",
   "execution_count": 57,
   "id": "9f8a17a0",
   "metadata": {},
   "outputs": [],
   "source": [
    "# we will fit 3 classification algorithms here - Decision Tree, KNN and Naive Bayes.\n",
    "# and then compare the performence of all three of them to judge which one fits better for this analysis."
   ]
  },
  {
   "cell_type": "code",
   "execution_count": 58,
   "id": "6a385fbb",
   "metadata": {},
   "outputs": [],
   "source": [
    "# Let's start with Decision tree\n",
    "\n",
    "from sklearn.tree import DecisionTreeClassifier\n",
    "dt=DecisionTreeClassifier()\n",
    "\n",
    "# Training the Decision Tree model on the training data\n",
    "dt_train = dt.fit(X_train, Y_train)\n",
    "\n",
    "# Making predictions on the test data\n",
    "Y_pred = dt.predict(X_test)"
   ]
  },
  {
   "cell_type": "code",
   "execution_count": 59,
   "id": "a3186fc8",
   "metadata": {},
   "outputs": [
    {
     "name": "stdout",
     "output_type": "stream",
     "text": [
      "Accuracy: 90.05847953216374\n",
      "Precision: 96.90721649484536\n",
      "Recall: 87.03703703703704\n",
      "F1-Score: 91.70731707317073\n"
     ]
    },
    {
     "data": {
      "text/plain": [
       "'\\nRecall is more important here since the cost of False negative \\n(Model predicting Benign when in reality the tumor is malignant) is very high in this case.\\n\\n'"
      ]
     },
     "execution_count": 59,
     "metadata": {},
     "output_type": "execute_result"
    }
   ],
   "source": [
    "# checking the performance of our model\n",
    "    \n",
    "from sklearn.metrics import accuracy_score, precision_score, recall_score, f1_score\n",
    "\n",
    "accuracy = accuracy_score(Y_test, Y_pred)\n",
    "precision = precision_score(Y_test, Y_pred)\n",
    "recall = recall_score(Y_test, Y_pred)\n",
    "f1 = f1_score(Y_test, Y_pred)\n",
    "\n",
    "print(\"Accuracy:\", accuracy*100)\n",
    "print(\"Precision:\",precision*100)\n",
    "print(\"Recall:\",recall*100)\n",
    "print(\"F1-Score:\",f1*100)\n",
    "\n",
    "'''\n",
    "Recall is more important here since the cost of False negative \n",
    "(Model predicting Benign when in reality the tumor is malignant) is very high in this case.\n",
    "\n",
    "'''"
   ]
  },
  {
   "cell_type": "code",
   "execution_count": 60,
   "id": "8b217b0b",
   "metadata": {},
   "outputs": [
    {
     "name": "stdout",
     "output_type": "stream",
     "text": [
      "CV_Accuracy: 92.61605340785593\n",
      "CV_Precision: 94.63211117315758\n",
      "CV_Recall: 92.69170579029733\n",
      "CV_F1-Score: 93.70788874080512\n"
     ]
    }
   ],
   "source": [
    "# now we will perform Cross validation here and check the performance metrics again to be more sure about the fit of the model\n",
    "\n",
    "from sklearn.model_selection import cross_val_score\n",
    "\n",
    "cv_accuracy = cross_val_score(dt, X, Y, cv=5, scoring='accuracy')\n",
    "cv_precision = cross_val_score(dt, X, Y, cv=5, scoring='precision')\n",
    "cv_recall = cross_val_score(dt, X, Y, cv=5, scoring='recall')\n",
    "cv_f1 = cross_val_score(dt, X, Y, cv=5, scoring='f1')\n",
    "\n",
    "print(\"CV_Accuracy:\", cv_accuracy.mean()*100)\n",
    "print(\"CV_Precision:\",cv_precision.mean()*100)\n",
    "print(\"CV_Recall:\",cv_recall.mean()*100)\n",
    "print(\"CV_F1-Score:\",cv_f1.mean()*100)\n",
    "\n",
    "# our recall value increases even further here so that is a good thing."
   ]
  },
  {
   "cell_type": "code",
   "execution_count": 61,
   "id": "dae2cebf",
   "metadata": {},
   "outputs": [
    {
     "data": {
      "text/plain": [
       "7"
      ]
     },
     "execution_count": 61,
     "metadata": {},
     "output_type": "execute_result"
    }
   ],
   "source": [
    "# Now when the tree is allowed to grow fully, the maximum depth of the tree is given by \n",
    "\n",
    "dt.tree_.max_depth"
   ]
  },
  {
   "cell_type": "code",
   "execution_count": 62,
   "id": "42241804",
   "metadata": {},
   "outputs": [],
   "source": [
    "# we Will now tune the hyperparameters using the GridSearch-CV method.\n",
    "\n",
    "from sklearn.model_selection import GridSearchCV\n",
    "\n",
    "# Defining the possible values of the hyperparameters \n",
    "\n",
    "hyperparameters = {'criterion': ['gini','entropy'],'max_depth': [None,5,10,15,20],'min_samples_split': [2,5,10],'min_samples_leaf': [1,2,4,6]}"
   ]
  },
  {
   "cell_type": "code",
   "execution_count": 63,
   "id": "a9c4fb2b",
   "metadata": {},
   "outputs": [
    {
     "data": {
      "text/plain": [
       "{'criterion': 'gini',\n",
       " 'max_depth': 5,\n",
       " 'min_samples_leaf': 1,\n",
       " 'min_samples_split': 5}"
      ]
     },
     "execution_count": 63,
     "metadata": {},
     "output_type": "execute_result"
    }
   ],
   "source": [
    "# creating the grid search cv object with a 5 fold cross-validation.\n",
    "\n",
    "grid_search = GridSearchCV(estimator=dt, param_grid=hyperparameters, cv=5, scoring='recall')\n",
    "grid_search.fit(X_train,Y_train) # fitting the object on your training dataset.\n",
    "\n",
    "tuned_hyp = grid_search.best_params_ #the best set of hyperparameters based upon the recall metric.\n",
    "tuned_hyp"
   ]
  },
  {
   "cell_type": "code",
   "execution_count": 64,
   "id": "bcb7ccec",
   "metadata": {},
   "outputs": [],
   "source": [
    "# fitting the decision tree with these best tuned hyperparameters\n",
    "\n",
    "best_dt = DecisionTreeClassifier(random_state=0, **tuned_hyp)\n",
    "best_dt.fit(X_train,Y_train)\n",
    "\n",
    "# making the predictions\n",
    "Y_pred_best = best_dt.predict(X_test)"
   ]
  },
  {
   "cell_type": "code",
   "execution_count": 65,
   "id": "7fe6c7c3",
   "metadata": {},
   "outputs": [
    {
     "name": "stdout",
     "output_type": "stream",
     "text": [
      "Accuracy: 93.56725146198829\n",
      "Precision: 97.0873786407767\n",
      "Recall: 92.5925925925926\n",
      "F1-Score: 94.7867298578199\n"
     ]
    }
   ],
   "source": [
    "# checking the performance\n",
    "\n",
    "accuracy_best = accuracy_score(Y_test, Y_pred_best)\n",
    "precision_best = precision_score(Y_test, Y_pred_best)\n",
    "recall_best = recall_score(Y_test, Y_pred_best)\n",
    "f1_best = f1_score(Y_test, Y_pred_best)\n",
    "\n",
    "print(\"Accuracy:\", accuracy_best*100)\n",
    "print(\"Precision:\",precision_best*100)\n",
    "print(\"Recall:\",recall_best*100)\n",
    "print(\"F1-Score:\",f1_best*100)\n",
    "\n",
    "# we can see none of the metrics increase much once we tune the hyperparameters.\n",
    "# so we can ignore tuning the hyperparameters in this case."
   ]
  },
  {
   "cell_type": "code",
   "execution_count": 66,
   "id": "d46e7754",
   "metadata": {},
   "outputs": [
    {
     "data": {
      "text/plain": [
       "array([0.        , 0.01798906, 0.        , 0.        , 0.        ,\n",
       "       0.        , 0.        , 0.00527564, 0.01902689, 0.        ,\n",
       "       0.        , 0.        , 0.        , 0.0497759 , 0.00145851,\n",
       "       0.        , 0.        , 0.        , 0.        , 0.        ,\n",
       "       0.        , 0.        , 0.        , 0.10094535, 0.        ,\n",
       "       0.        , 0.02742196, 0.7631158 , 0.01499088, 0.        ])"
      ]
     },
     "execution_count": 66,
     "metadata": {},
     "output_type": "execute_result"
    }
   ],
   "source": [
    "# we can further check for the important features to avoid features which are not important for the model\n",
    "\n",
    "best_dt.feature_importances_"
   ]
  },
  {
   "cell_type": "code",
   "execution_count": 67,
   "id": "ad8ea33e",
   "metadata": {},
   "outputs": [],
   "source": [
    "feature_importance = best_dt.feature_importances_"
   ]
  },
  {
   "cell_type": "code",
   "execution_count": 68,
   "id": "660be659",
   "metadata": {},
   "outputs": [
    {
     "data": {
      "text/plain": [
       "[1, 7, 8, 13, 14, 23, 26, 27, 28]"
      ]
     },
     "execution_count": 68,
     "metadata": {},
     "output_type": "execute_result"
    }
   ],
   "source": [
    "important_features = [feature for feature, importance in enumerate(feature_importance) if importance > 0]\n",
    "important_features"
   ]
  },
  {
   "cell_type": "code",
   "execution_count": 69,
   "id": "4deab824",
   "metadata": {},
   "outputs": [
    {
     "data": {
      "text/plain": [
       "['mean texture',\n",
       " 'mean concave points',\n",
       " 'mean symmetry',\n",
       " 'area error',\n",
       " 'smoothness error',\n",
       " 'worst area',\n",
       " 'worst concavity',\n",
       " 'worst concave points',\n",
       " 'worst symmetry']"
      ]
     },
     "execution_count": 69,
     "metadata": {},
     "output_type": "execute_result"
    }
   ],
   "source": [
    "feature_names_imp = [df.columns[i] for i in important_features]\n",
    "feature_names_imp"
   ]
  },
  {
   "cell_type": "code",
   "execution_count": 70,
   "id": "70234318",
   "metadata": {},
   "outputs": [],
   "source": [
    "# creating new training and test set out of the important features only.\n",
    "\n",
    "X_train_important = X_train.loc[:, feature_names_imp]\n",
    "X_test_important = X_test.loc[:, feature_names_imp]"
   ]
  },
  {
   "cell_type": "code",
   "execution_count": 71,
   "id": "8db3f78f",
   "metadata": {},
   "outputs": [],
   "source": [
    "# fitting the tuned decision tree on this new training set - \n",
    "\n",
    "best_dt.fit(X_train_important, Y_train)\n",
    "\n",
    "# making the predictions \n",
    "\n",
    "Y_pred_important = best_dt.predict(X_test_important)"
   ]
  },
  {
   "cell_type": "code",
   "execution_count": 72,
   "id": "6a5d5b07",
   "metadata": {},
   "outputs": [
    {
     "name": "stdout",
     "output_type": "stream",
     "text": [
      "Accuracy with Important Features: 93.56725146198829\n",
      "Precision with Important Features: 97.0873786407767\n",
      "Recall with Important Features: 92.5925925925926\n",
      "F1 Score with Important Features: 94.7867298578199\n"
     ]
    }
   ],
   "source": [
    "# Calculating performance metrics for the model with important features\n",
    "\n",
    "accuracy_important = accuracy_score(Y_test, Y_pred_important)\n",
    "precision_important = precision_score(Y_test, Y_pred_important)\n",
    "recall_important = recall_score(Y_test, Y_pred_important)\n",
    "f1_important = f1_score(Y_test, Y_pred_important)\n",
    "\n",
    "print(\"Accuracy with Important Features:\", accuracy_important*100)\n",
    "print(\"Precision with Important Features:\", precision_important*100)\n",
    "print(\"Recall with Important Features:\", recall_important*100)\n",
    "print(\"F1 Score with Important Features:\", f1_important*100)"
   ]
  },
  {
   "cell_type": "code",
   "execution_count": 73,
   "id": "589e3dbf",
   "metadata": {},
   "outputs": [
    {
     "data": {
      "image/png": "[encoded data removed]",
      "text/plain": [
       "<Figure size 1200x800 with 1 Axes>"
      ]
     },
     "metadata": {},
     "output_type": "display_data"
    }
   ],
   "source": [
    "# Visualize the Decision Tree\n",
    "\n",
    "import matplotlib.pyplot as plt\n",
    "from sklearn.tree import plot_tree\n",
    "plt.figure(figsize=(12, 8))\n",
    "plot_tree(best_dt, filled=True, feature_names=load_breast_cancer()['feature_names'], class_names=[\"malignant\", \"benign\"])\n",
    "plt.show()"
   ]
  },
  {
   "cell_type": "markdown",
   "id": "f93b4999",
   "metadata": {},
   "source": [
    "although recall and accuracy has increased slightly compared to the initial model, the change is not very significant.\n",
    "we can therefore keep the original Decision tree as the best fit tree for this dataset."
   ]
  },
  {
   "cell_type": "markdown",
   "id": "fed8709f",
   "metadata": {},
   "source": [
    "Now we will apply the K-NN algorithm on the same datase to assess the performance of thaat algorith and see if it is a better model than the Decision Tree."
   ]
  },
  {
   "cell_type": "code",
   "execution_count": 74,
   "id": "6eb2b99c",
   "metadata": {},
   "outputs": [],
   "source": [
    "from sklearn.neighbors import KNeighborsClassifier"
   ]
  },
  {
   "cell_type": "code",
   "execution_count": 75,
   "id": "0d9ba041",
   "metadata": {},
   "outputs": [],
   "source": [
    "# Splitting the data into a training and testing set\n",
    "\n",
    "X_train, X_test, Y_train, Y_test = train_test_split(X, Y, test_size=0.3, random_state=0)"
   ]
  },
  {
   "cell_type": "code",
   "execution_count": 76,
   "id": "b2a19405",
   "metadata": {},
   "outputs": [],
   "source": [
    "# Creating a KNN classifier\n",
    "\n",
    "knn = KNeighborsClassifier() "
   ]
  },
  {
   "cell_type": "code",
   "execution_count": 82,
   "id": "8d86eb4a",
   "metadata": {},
   "outputs": [
    {
     "name": "stdout",
     "output_type": "stream",
     "text": [
      "17 : 0.9691705790297339\n"
     ]
    }
   ],
   "source": [
    "# Performing k-fold cross-validation for each k value to find the optimal value of k\n",
    "\n",
    "k_accuracy = {}\n",
    "for k in range(1,21):\n",
    "    knn = KNeighborsClassifier(n_neighbors=k)\n",
    "    scores = cross_val_score(knn, X, Y, cv=5, scoring='recall')\n",
    "    k_accuracy[k] = scores.mean()\n",
    "    \n",
    "# finding the best value of k --\n",
    "best_k = max(k_accuracy, key=k_accuracy.get)\n",
    "print(best_k,':',k_accuracy[best_k])"
   ]
  },
  {
   "cell_type": "code",
   "execution_count": 84,
   "id": "15f03e12",
   "metadata": {},
   "outputs": [],
   "source": [
    "# we will run the model with the k value as 17\n",
    "\n",
    "knn_best = KNeighborsClassifier(n_neighbors=17)"
   ]
  },
  {
   "cell_type": "code",
   "execution_count": 85,
   "id": "b866d33b",
   "metadata": {},
   "outputs": [],
   "source": [
    "# Fitting the KNN classifier on the training data\n",
    "knn_best.fit(X_train, Y_train)\n",
    "\n",
    "# Making predictions on the test data\n",
    "Y_pred = knn_best.predict(X_test)"
   ]
  },
  {
   "cell_type": "code",
   "execution_count": 86,
   "id": "b5cbd83a",
   "metadata": {},
   "outputs": [
    {
     "name": "stdout",
     "output_type": "stream",
     "text": [
      "Accuracy: 96.49122807017544\n",
      "Precision: 96.36363636363636\n",
      "Recall: 98.14814814814815\n",
      "F1-Score: 97.24770642201834\n"
     ]
    }
   ],
   "source": [
    "# Calculating metrics for the test data\n",
    "\n",
    "accuracy = accuracy_score(Y_test, Y_pred)\n",
    "precision = precision_score(Y_test, Y_pred)\n",
    "recall = recall_score(Y_test, Y_pred)\n",
    "f1 = f1_score(Y_test, Y_pred)\n",
    "\n",
    "print(\"Accuracy:\", accuracy*100)\n",
    "print(\"Precision:\",precision*100)\n",
    "print(\"Recall:\",recall*100)\n",
    "print(\"F1-Score:\",f1*100)\n",
    "\n",
    "# the recall value is very good. "
   ]
  },
  {
   "cell_type": "code",
   "execution_count": 87,
   "id": "443c1eb4",
   "metadata": {},
   "outputs": [
    {
     "name": "stdout",
     "output_type": "stream",
     "text": [
      "CV_Accuracy: 92.97469337059464\n",
      "CV_Precision: 92.50562319326276\n",
      "CV_Recall: 96.9170579029734\n",
      "CV_F1-Score: 94.5937423332443\n"
     ]
    }
   ],
   "source": [
    "# checking with a 5-fold cross validation -\n",
    "\n",
    "cv_accuracy = cross_val_score(knn_best, X, Y, cv=5, scoring='accuracy')\n",
    "cv_precision = cross_val_score(knn_best, X, Y, cv=5, scoring='precision')\n",
    "cv_recall = cross_val_score(knn_best, X, Y, cv=5, scoring='recall')\n",
    "cv_f1 = cross_val_score(knn_best, X, Y, cv=5, scoring='f1')\n",
    "\n",
    "print(\"CV_Accuracy:\", cv_accuracy.mean()*100)\n",
    "print(\"CV_Precision:\",cv_precision.mean()*100)\n",
    "print(\"CV_Recall:\",cv_recall.mean()*100)\n",
    "print(\"CV_F1-Score:\",cv_f1.mean()*100)\n",
    "\n",
    "# however, with cross validation, the recall reduces slightly but nonetheless, the performance is quite high."
   ]
  },
  {
   "cell_type": "markdown",
   "id": "2986c231",
   "metadata": {},
   "source": [
    "The recall score of the KNN approach is higher than that of the Decision tree (with the important features).\n",
    "KNN seems to be a better fit model in this case"
   ]
  },
  {
   "cell_type": "markdown",
   "id": "ec7f12f9",
   "metadata": {},
   "source": [
    "finally, we will check the performance of The Naive Bayes approach"
   ]
  },
  {
   "cell_type": "code",
   "execution_count": 94,
   "id": "8c553648",
   "metadata": {},
   "outputs": [],
   "source": [
    "from sklearn.naive_bayes import GaussianNB"
   ]
  },
  {
   "cell_type": "code",
   "execution_count": 95,
   "id": "e19c8db6",
   "metadata": {},
   "outputs": [],
   "source": [
    "# Splitting the data into a training and testing set\n",
    "\n",
    "X_train, X_test, Y_train, Y_test = train_test_split(X, Y, test_size=0.3, random_state=0)"
   ]
  },
  {
   "cell_type": "code",
   "execution_count": 96,
   "id": "a5de0775",
   "metadata": {},
   "outputs": [],
   "source": [
    "# Creating a Naive Bayes classifier (GaussianNB since the features are continuous)\n",
    "\n",
    "nb = GaussianNB()"
   ]
  },
  {
   "cell_type": "code",
   "execution_count": 97,
   "id": "031c04f0",
   "metadata": {},
   "outputs": [],
   "source": [
    "# Training the Naive Bayes model on the training data\n",
    "nb.fit(X_train, Y_train)\n",
    "\n",
    "# Making predictions on the test data\n",
    "y_pred = nb.predict(X_test)"
   ]
  },
  {
   "cell_type": "code",
   "execution_count": 98,
   "id": "d929ad08",
   "metadata": {},
   "outputs": [
    {
     "name": "stdout",
     "output_type": "stream",
     "text": [
      "Accuracy: 96.49122807017544\n",
      "Precision: 96.36363636363636\n",
      "Recall: 98.14814814814815\n",
      "F1-Score: 97.24770642201834\n"
     ]
    }
   ],
   "source": [
    "# Calculating metrics for the test set\n",
    "\n",
    "accuracy = accuracy_score(Y_test, Y_pred)\n",
    "precision = precision_score(Y_test, Y_pred)\n",
    "recall = recall_score(Y_test, Y_pred)\n",
    "f1 = f1_score(Y_test, Y_pred)\n",
    "\n",
    "print(\"Accuracy:\", accuracy*100)\n",
    "print(\"Precision:\",precision*100)\n",
    "print(\"Recall:\",recall*100)\n",
    "print(\"F1-Score:\",f1*100)\n",
    "\n",
    "# the recall value is even better than the KNN approach"
   ]
  },
  {
   "cell_type": "code",
   "execution_count": 99,
   "id": "267dea0a",
   "metadata": {},
   "outputs": [
    {
     "name": "stdout",
     "output_type": "stream",
     "text": [
      "CV_Accuracy: 93.85188635305074\n",
      "CV_Precision: 93.57565691776217\n",
      "CV_Recall: 96.91314553990613\n",
      "CV_F1-Score: 95.1833212457133\n"
     ]
    }
   ],
   "source": [
    "# checking with a 5-fold cross validation -\n",
    "\n",
    "cv_accuracy = cross_val_score(nb, X, Y, cv=5, scoring='accuracy')\n",
    "cv_precision = cross_val_score(nb, X, Y, cv=5, scoring='precision')\n",
    "cv_recall = cross_val_score(nb, X, Y, cv=5, scoring='recall')\n",
    "cv_f1 = cross_val_score(nb, X, Y, cv=5, scoring='f1')\n",
    "\n",
    "print(\"CV_Accuracy:\", cv_accuracy.mean()*100)\n",
    "print(\"CV_Precision:\",cv_precision.mean()*100)\n",
    "print(\"CV_Recall:\",cv_recall.mean()*100)\n",
    "print(\"CV_F1-Score:\",cv_f1.mean()*100)\n",
    "\n",
    "# however, with cross validation, the recall score happens to be almost equal to that of KNN."
   ]
  },
  {
   "cell_type": "markdown",
   "id": "56684e09",
   "metadata": {},
   "source": [
    "We can conclude that, for performing classification technique on the Breast Cancer Dataset, the best approach would be to either go with a KNN algorithm with the number of nearest neighbors to be 17 or to perform a Naive Bayes algorithm instead of a decision tree.\n",
    "\n",
    "However, for future considerations, it's worth exploring the performance of ensemble learning algorithms to determine if they outperform the supervised learning algorithms we've examined so far."
   ]
  }
 ],
 "metadata": {
  "kernelspec": {
   "display_name": "Python 3 (ipykernel)",
   "language": "python",
   "name": "python3"
  },
  "language_info": {
   "codemirror_mode": {
    "name": "ipython",
    "version": 3
   },
   "file_extension": ".py",
   "mimetype": "text/x-python",
   "name": "python",
   "nbconvert_exporter": "python",
   "pygments_lexer": "ipython3",
   "version": "3.11.3"
  }
 },
 "nbformat": 4,
 "nbformat_minor": 5
}
